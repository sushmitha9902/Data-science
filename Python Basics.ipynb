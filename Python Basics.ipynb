{
 "cells": [
  {
   "cell_type": "markdown",
   "id": "3e8d5b0f-6825-4732-b04d-cc352b317080",
   "metadata": {},
   "source": [
    "# Variable & Mathematical Operation"
   ]
  },
  {
   "cell_type": "code",
   "execution_count": 1,
   "id": "fbee4a03-df3e-4c44-a85a-ff8dade24d1f",
   "metadata": {},
   "outputs": [],
   "source": [
    "x=10\n",
    "y=4\n",
    " "
   ]
  },
  {
   "cell_type": "code",
   "execution_count": 2,
   "id": "3f96c9fd-6026-4f72-84a7-2c1056b7b364",
   "metadata": {},
   "outputs": [
    {
     "name": "stdout",
     "output_type": "stream",
     "text": [
      "14\n"
     ]
    },
    {
     "data": {
      "text/plain": [
       "14"
      ]
     },
     "execution_count": 2,
     "metadata": {},
     "output_type": "execute_result"
    }
   ],
   "source": [
    "print(x+y)\n",
    "14"
   ]
  },
  {
   "cell_type": "code",
   "execution_count": 3,
   "id": "2cfb7cbb-e82f-4fd8-bc81-bc26082484b4",
   "metadata": {},
   "outputs": [
    {
     "name": "stdout",
     "output_type": "stream",
     "text": [
      "6\n"
     ]
    },
    {
     "data": {
      "text/plain": [
       "6"
      ]
     },
     "execution_count": 3,
     "metadata": {},
     "output_type": "execute_result"
    }
   ],
   "source": [
    "print(x-y)\n",
    "6"
   ]
  },
  {
   "cell_type": "code",
   "execution_count": 4,
   "id": "e97e894b-2b94-441b-a685-f7e3e3802136",
   "metadata": {},
   "outputs": [
    {
     "name": "stdout",
     "output_type": "stream",
     "text": [
      "40\n"
     ]
    },
    {
     "data": {
      "text/plain": [
       "40"
      ]
     },
     "execution_count": 4,
     "metadata": {},
     "output_type": "execute_result"
    }
   ],
   "source": [
    "print(x*y)\n",
    "40"
   ]
  },
  {
   "cell_type": "code",
   "execution_count": 5,
   "id": "372021f5-23df-4296-98be-d9e8390aa71b",
   "metadata": {},
   "outputs": [
    {
     "name": "stdout",
     "output_type": "stream",
     "text": [
      "2.5\n"
     ]
    },
    {
     "data": {
      "text/plain": [
       "2.5"
      ]
     },
     "execution_count": 5,
     "metadata": {},
     "output_type": "execute_result"
    }
   ],
   "source": [
    "print(x/y)\n",
    "2.5"
   ]
  },
  {
   "cell_type": "code",
   "execution_count": 6,
   "id": "5188efdc-3c95-4f06-b8b3-f4e41ab48b6c",
   "metadata": {},
   "outputs": [
    {
     "name": "stdout",
     "output_type": "stream",
     "text": [
      "2\n"
     ]
    },
    {
     "data": {
      "text/plain": [
       "2"
      ]
     },
     "execution_count": 6,
     "metadata": {},
     "output_type": "execute_result"
    }
   ],
   "source": [
    "print(x%y)\n",
    "2"
   ]
  },
  {
   "cell_type": "code",
   "execution_count": 7,
   "id": "2bd5306e-9ccf-4a4f-b92a-efee16ff5399",
   "metadata": {},
   "outputs": [
    {
     "name": "stdout",
     "output_type": "stream",
     "text": [
      "2\n"
     ]
    },
    {
     "data": {
      "text/plain": [
       "2"
      ]
     },
     "execution_count": 7,
     "metadata": {},
     "output_type": "execute_result"
    }
   ],
   "source": [
    "print(x//y)\n",
    "2"
   ]
  },
  {
   "cell_type": "markdown",
   "id": "8684f6ea-ea14-4a40-a8fd-5972476b1cb2",
   "metadata": {},
   "source": [
    "# Using input() and print()"
   ]
  },
  {
   "cell_type": "code",
   "execution_count": 8,
   "id": "95be53da-3b5b-48c0-a0de-7d6766e5aa62",
   "metadata": {},
   "outputs": [
    {
     "name": "stdout",
     "output_type": "stream",
     "text": [
      "Hi John,your favorite color is Blue.\n"
     ]
    }
   ],
   "source": [
    "print(\"Hi John,your favorite color is Blue.\") "
   ]
  },
  {
   "cell_type": "code",
   "execution_count": 9,
   "id": "1e55e2a9-9b0f-4d00-9942-fce633d31dc7",
   "metadata": {},
   "outputs": [
    {
     "name": "stdin",
     "output_type": "stream",
     "text": [
      "Enter your name: Sushmitha\n",
      "Enter your favorite color: pink\n"
     ]
    }
   ],
   "source": [
    "name=input(\"Enter your name:\")\n",
    "color=input(\"Enter your favorite color:\")"
   ]
  },
  {
   "cell_type": "code",
   "execution_count": 10,
   "id": "fac717ab-e1fd-4c2c-961e-944a9619a5a8",
   "metadata": {},
   "outputs": [
    {
     "name": "stdout",
     "output_type": "stream",
     "text": [
      "Hi Sushmitha your favorite color is pink\n"
     ]
    }
   ],
   "source": [
    "print(\"Hi\",name,\"your favorite color is\",color)"
   ]
  },
  {
   "cell_type": "markdown",
   "id": "0fdbb20b-ed5f-4820-9b75-4a1cde74aeaa",
   "metadata": {},
   "source": [
    "# format() and f-string()"
   ]
  },
  {
   "cell_type": "code",
   "execution_count": 11,
   "id": "cfc3d189-992f-41d2-ba8c-2fe297a96585",
   "metadata": {},
   "outputs": [
    {
     "name": "stdout",
     "output_type": "stream",
     "text": [
      "You are 18 years old and live in Bangalore.\n"
     ]
    }
   ],
   "source": [
    "info=\"You are 18 years old and live in Bangalore.\"\n",
    "print(\"{}\".format(info))"
   ]
  },
  {
   "cell_type": "code",
   "execution_count": 12,
   "id": "c8640ae0-5c7e-494c-b1f5-7776fd7876e2",
   "metadata": {},
   "outputs": [
    {
     "name": "stdout",
     "output_type": "stream",
     "text": [
      "You are 18 years old and live in Bangalore.\n"
     ]
    }
   ],
   "source": [
    "print(f\"{info}\")"
   ]
  },
  {
   "cell_type": "markdown",
   "id": "2881ef9f-0478-4fab-8a7e-f924d39a790a",
   "metadata": {},
   "source": [
    "# Date Types and type()"
   ]
  },
  {
   "cell_type": "code",
   "execution_count": 13,
   "id": "7ee9e4a4-63e8-40f8-ad66-ca8180ff0d3b",
   "metadata": {},
   "outputs": [],
   "source": [
    "a=7\n",
    "b=3.14\n",
    "c=\"Python\"\n",
    "is_valid=True"
   ]
  },
  {
   "cell_type": "code",
   "execution_count": 14,
   "id": "fec97c56-1a0c-458f-a6ce-706f545b0882",
   "metadata": {},
   "outputs": [
    {
     "name": "stdout",
     "output_type": "stream",
     "text": [
      "<class 'int'>\n"
     ]
    }
   ],
   "source": [
    "print(type(a))"
   ]
  },
  {
   "cell_type": "code",
   "execution_count": 15,
   "id": "c3673955-2de3-42bb-95aa-2be672bb63cc",
   "metadata": {},
   "outputs": [
    {
     "name": "stdout",
     "output_type": "stream",
     "text": [
      "<class 'float'>\n"
     ]
    }
   ],
   "source": [
    "print(type(b))"
   ]
  },
  {
   "cell_type": "code",
   "execution_count": 16,
   "id": "6d179738-94b1-4919-9f27-69bd2cdc281d",
   "metadata": {},
   "outputs": [
    {
     "name": "stdout",
     "output_type": "stream",
     "text": [
      "<class 'str'>\n"
     ]
    }
   ],
   "source": [
    "print(type(c))"
   ]
  },
  {
   "cell_type": "code",
   "execution_count": 17,
   "id": "1bb91d00-4fe2-4e3d-966b-53dbf18fc236",
   "metadata": {},
   "outputs": [
    {
     "name": "stdout",
     "output_type": "stream",
     "text": [
      "<class 'bool'>\n"
     ]
    }
   ],
   "source": [
    "print(type(is_valid))"
   ]
  },
  {
   "cell_type": "markdown",
   "id": "5fafd2a5-e600-4343-9fa4-62aed260cae1",
   "metadata": {},
   "source": [
    "# Type Casting"
   ]
  },
  {
   "cell_type": "code",
   "execution_count": 19,
   "id": "ad75968e-3471-4917-a1d0-eb7aeb5105a2",
   "metadata": {},
   "outputs": [
    {
     "name": "stdin",
     "output_type": "stream",
     "text": [
      "Enter a number: 60\n"
     ]
    }
   ],
   "source": [
    "num=input(\"Enter a number:\")"
   ]
  },
  {
   "cell_type": "code",
   "execution_count": 20,
   "id": "2a1785bb-2245-4ff1-9038-93cea1bf88d5",
   "metadata": {},
   "outputs": [],
   "source": [
    "i=int(num)"
   ]
  },
  {
   "cell_type": "code",
   "execution_count": 21,
   "id": "68593aed-fd39-484d-8c4b-7d104f452992",
   "metadata": {},
   "outputs": [
    {
     "name": "stdout",
     "output_type": "stream",
     "text": [
      "70\n"
     ]
    }
   ],
   "source": [
    "print(i+10)"
   ]
  },
  {
   "cell_type": "markdown",
   "id": "f4b7462f-8a67-4dc4-b810-5f9b32244679",
   "metadata": {},
   "source": [
    "# String Length & Concatenation"
   ]
  },
  {
   "cell_type": "code",
   "execution_count": 22,
   "id": "5b835ee5-929e-44ba-a19e-a3ccba3afc8d",
   "metadata": {},
   "outputs": [
    {
     "name": "stdout",
     "output_type": "stream",
     "text": [
      "Asha Rao\n"
     ]
    }
   ],
   "source": [
    "first_name=\"Asha\"\n",
    "last_name=\"Rao\"\n",
    "n=first_name+\" \"+last_name\n",
    "print(n)"
   ]
  },
  {
   "cell_type": "code",
   "execution_count": 23,
   "id": "6953b452-72be-4181-9b13-444c6538effc",
   "metadata": {},
   "outputs": [
    {
     "name": "stdout",
     "output_type": "stream",
     "text": [
      "8\n"
     ]
    }
   ],
   "source": [
    "print(len(n))"
   ]
  },
  {
   "cell_type": "code",
   "execution_count": null,
   "id": "3b17cf56-7aeb-4f94-aed5-e309e2550ad4",
   "metadata": {},
   "outputs": [],
   "source": []
  }
 ],
 "metadata": {
  "kernelspec": {
   "display_name": "Python 3 (ipykernel)",
   "language": "python",
   "name": "python3"
  },
  "language_info": {
   "codemirror_mode": {
    "name": "ipython",
    "version": 3
   },
   "file_extension": ".py",
   "mimetype": "text/x-python",
   "name": "python",
   "nbconvert_exporter": "python",
   "pygments_lexer": "ipython3",
   "version": "3.13.3"
  }
 },
 "nbformat": 4,
 "nbformat_minor": 5
}
