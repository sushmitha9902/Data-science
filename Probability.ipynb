{
 "cells": [
  {
   "cell_type": "code",
   "execution_count": 1,
   "id": "fa389856-60c8-4d62-b4d2-1ebf5025675a",
   "metadata": {},
   "outputs": [],
   "source": [
    "import numpy as np"
   ]
  },
  {
   "cell_type": "raw",
   "id": "01424f95-5cd3-4b31-a057-f0987f5e6ad7",
   "metadata": {},
   "source": [
    "What is the probability of getting head ?"
   ]
  },
  {
   "cell_type": "markdown",
   "id": "ed921e0e-fa80-4ef5-b6f6-a536b91d4a6c",
   "metadata": {},
   "source": [
    "# For one coin toss"
   ]
  },
  {
   "cell_type": "code",
   "execution_count": 2,
   "id": "d54b9a73-fdf0-4a0b-a173-01de86336dab",
   "metadata": {},
   "outputs": [],
   "source": [
    "favorable_outcomes = 1  # Only one favorable outcome (Heads)\n",
    "total_outcomes = 2  # Two possible outcomes (Heads or Tails)"
   ]
  },
  {
   "cell_type": "code",
   "execution_count": 3,
   "id": "81c67721-a546-439f-81cd-943d844df117",
   "metadata": {},
   "outputs": [
    {
     "name": "stdout",
     "output_type": "stream",
     "text": [
      "Probability of getting heads: 0.5\n"
     ]
    }
   ],
   "source": [
    "# Calculate the probability\n",
    "\n",
    "probability = favorable_outcomes / total_outcomes\n",
    "print(\"Probability of getting heads:\", probability)"
   ]
  },
  {
   "cell_type": "markdown",
   "id": "3149c442-b9f6-4e33-a061-283c1d323055",
   "metadata": {},
   "source": [
    "# For 100 coin toss"
   ]
  },
  {
   "cell_type": "code",
   "execution_count": 4,
   "id": "3493f971-3e49-47c1-8479-024e148053e0",
   "metadata": {},
   "outputs": [],
   "source": [
    "# Simulate 1000 coin tosses\n",
    "n_trials = 1000\n",
    "coin_tosses = np.random.choice(['Heads', 'Tails'], size=n_trials)\n",
    "# np.random.choice or np.random.randint that allow you to easily simulate random events like coin tosses or dice rolls."
   ]
  },
  {
   "cell_type": "code",
   "execution_count": 5,
   "id": "e68f27b9-5068-4fd5-b13a-41246b5936a1",
   "metadata": {},
   "outputs": [
    {
     "name": "stdout",
     "output_type": "stream",
     "text": [
      "Probability of getting heads: 0.524\n"
     ]
    }
   ],
   "source": [
    "# Calculate probability of getting heads\n",
    "p_heads = np.sum(coin_tosses == 'Heads') / n_trials\n",
    "print(\"Probability of getting heads:\", p_heads)"
   ]
  },
  {
   "cell_type": "markdown",
   "id": "86b53400-3c9a-4cc2-994d-5a3618f1e470",
   "metadata": {},
   "source": [
    "# Rolling a Die"
   ]
  },
  {
   "cell_type": "code",
   "execution_count": 6,
   "id": "46acfb7a-9b73-4d0d-b204-1d0ade6a634d",
   "metadata": {},
   "outputs": [
    {
     "data": {
      "text/plain": [
       "array([1, 1, 4, ..., 2, 6, 6], shape=(10000,), dtype=int32)"
      ]
     },
     "execution_count": 6,
     "metadata": {},
     "output_type": "execute_result"
    }
   ],
   "source": [
    "# Simulate rolling a die 10,000 times\n",
    "n_trials = 10000\n",
    "dice_rolls = np.random.randint(1, 7, size=n_trials)  # Die rolls between 1 and 6\n",
    "dice_rolls"
   ]
  },
  {
   "cell_type": "code",
   "execution_count": 7,
   "id": "03bdddac-7f82-46d4-b3ae-27248fd2437f",
   "metadata": {},
   "outputs": [
    {
     "name": "stdout",
     "output_type": "stream",
     "text": [
      "Probability of rolling 3: 0.1619\n"
     ]
    }
   ],
   "source": [
    "# Calculate the probability of rolling 3\n",
    "p_three = np.sum(dice_rolls == 3) / n_trials\n",
    "print(\"Probability of rolling 3:\", p_three)"
   ]
  },
  {
   "cell_type": "code",
   "execution_count": null,
   "id": "a0b3a46a-b418-4591-9368-aad7b67b378a",
   "metadata": {},
   "outputs": [],
   "source": []
  }
 ],
 "metadata": {
  "kernelspec": {
   "display_name": "Python 3 (ipykernel)",
   "language": "python",
   "name": "python3"
  },
  "language_info": {
   "codemirror_mode": {
    "name": "ipython",
    "version": 3
   },
   "file_extension": ".py",
   "mimetype": "text/x-python",
   "name": "python",
   "nbconvert_exporter": "python",
   "pygments_lexer": "ipython3",
   "version": "3.13.3"
  }
 },
 "nbformat": 4,
 "nbformat_minor": 5
}
