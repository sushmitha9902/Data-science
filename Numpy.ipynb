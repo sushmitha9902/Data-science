{
 "cells": [
  {
   "cell_type": "markdown",
   "id": "224e9077-75c0-41f2-b330-951bcad376c4",
   "metadata": {},
   "source": [
    "## Part A:Array Creation"
   ]
  },
  {
   "cell_type": "raw",
   "id": "2c5a62cb-86d3-4209-a22e-f44ec5736ed3",
   "metadata": {},
   "source": [
    "1.Create a 1D Numpy array with values from 1 to 10."
   ]
  },
  {
   "cell_type": "code",
   "execution_count": 1,
   "id": "77d5fe59-b20c-4eb4-a4f0-6d1c5a270662",
   "metadata": {},
   "outputs": [
    {
     "name": "stdout",
     "output_type": "stream",
     "text": [
      "[ 1  2  3  4  5  6  7  8  9 10]\n"
     ]
    }
   ],
   "source": [
    "import numpy as np\n",
    "D1=np.arange(1,11)\n",
    "print(D1)"
   ]
  },
  {
   "cell_type": "raw",
   "id": "ff6c5e84-d573-4742-af70-4ed42208710b",
   "metadata": {},
   "source": [
    "2.Create a 2D array with shape (3,3) filled with ones."
   ]
  },
  {
   "cell_type": "code",
   "execution_count": 2,
   "id": "a5bd352b-3dfe-4936-a086-6504dc173d70",
   "metadata": {},
   "outputs": [
    {
     "name": "stdout",
     "output_type": "stream",
     "text": [
      "[[1 1 1]\n",
      " [1 1 1]\n",
      " [1 1 1]]\n"
     ]
    }
   ],
   "source": [
    "D2=np.array([[1,1,1],[1,1,1],[1,1,1]])\n",
    "print(D2)"
   ]
  },
  {
   "cell_type": "raw",
   "id": "14189de4-6cc2-4b1a-b864-dca2931bb53d",
   "metadata": {},
   "source": [
    "3.Create an array of 5 equally spaced number between 0 and 1"
   ]
  },
  {
   "cell_type": "code",
   "execution_count": 3,
   "id": "b90e2825-ddbb-463a-876e-de351e3c3457",
   "metadata": {},
   "outputs": [
    {
     "name": "stdout",
     "output_type": "stream",
     "text": [
      "[0.   0.25 0.5  0.75 1.  ]\n"
     ]
    }
   ],
   "source": [
    "d=np.linspace(0,1,5)\n",
    "print(d)"
   ]
  },
  {
   "cell_type": "raw",
   "id": "9e72419b-17ab-47ab-a404-35d431a0115d",
   "metadata": {},
   "source": [
    "4.Create a 3*3 identity matrix"
   ]
  },
  {
   "cell_type": "code",
   "execution_count": 4,
   "id": "36f0e041-7805-4104-87f3-fac09be1451f",
   "metadata": {},
   "outputs": [
    {
     "name": "stdout",
     "output_type": "stream",
     "text": [
      "[[1. 0. 0.]\n",
      " [0. 1. 0.]\n",
      " [0. 0. 1.]]\n"
     ]
    }
   ],
   "source": [
    "print(np.eye(3,k=0))"
   ]
  },
  {
   "cell_type": "markdown",
   "id": "70b02873-95f1-43a0-b349-014bfac75bcd",
   "metadata": {},
   "source": [
    "# Part B:Array Operation"
   ]
  },
  {
   "cell_type": "raw",
   "id": "23dacb3f-7594-4291-a5db-b694cf998e83",
   "metadata": {},
   "source": [
    "5.Create two array: a=[2,4,6] and b=[1,3,5] .Perform the following Addition Substraction Multiplication Division"
   ]
  },
  {
   "cell_type": "code",
   "execution_count": 5,
   "id": "78ae14ba-1633-4311-b902-fe4d883a5086",
   "metadata": {},
   "outputs": [
    {
     "name": "stdout",
     "output_type": "stream",
     "text": [
      "Addition: [ 3  7 11]\n",
      "Substraction: [1 1 1]\n",
      "Multiplication: [ 2 12 30]\n",
      "Division: [2.         1.33333333 1.2       ]\n"
     ]
    }
   ],
   "source": [
    "a=np.array([2,4,6]) \n",
    "b=np.array([1,3,5])\n",
    "print(\"Addition:\",a+b)\n",
    "print(\"Substraction:\",a-b)\n",
    "print(\"Multiplication:\",a*b)\n",
    "print(\"Division:\",a/b)"
   ]
  },
  {
   "cell_type": "raw",
   "id": "69c04c3a-8f42-4215-addf-b190a0328aa2",
   "metadata": {},
   "source": [
    "6.Find the square of each element in the array [1,2,3,4,5]"
   ]
  },
  {
   "cell_type": "code",
   "execution_count": 6,
   "id": "a5c4292c-889a-4796-b9b0-6e588d137092",
   "metadata": {},
   "outputs": [
    {
     "name": "stdout",
     "output_type": "stream",
     "text": [
      "[ 1  4  9 16 25]\n"
     ]
    }
   ],
   "source": [
    "arr=[1,2,3,4,5]\n",
    "print(np.square(arr))"
   ]
  },
  {
   "cell_type": "markdown",
   "id": "723d0705-943c-4444-8f61-115ef165680f",
   "metadata": {},
   "source": [
    "# Part C:Indexing and Slicing"
   ]
  },
  {
   "cell_type": "raw",
   "id": "e33e0f37-6234-4695-8eac-a245e3ab7d9e",
   "metadata": {},
   "source": [
    "7.Given arr=np.array([10,20,30,40,50]),extract: The first three elements The last two element then element at index 2"
   ]
  },
  {
   "cell_type": "code",
   "execution_count": 7,
   "id": "15fa9fe7-6b17-4eb6-97dc-1ac5aa4f5689",
   "metadata": {},
   "outputs": [],
   "source": [
    " arr=np.array([10,20,30,40,50])"
   ]
  },
  {
   "cell_type": "code",
   "execution_count": 8,
   "id": "c39aa0dc-1f68-4831-afa8-87ac8acbc0ad",
   "metadata": {},
   "outputs": [
    {
     "name": "stdout",
     "output_type": "stream",
     "text": [
      "[10 20 30]\n",
      "[40 50]\n",
      "30\n"
     ]
    }
   ],
   "source": [
    "print(arr[:3])\n",
    "print(arr[-2:])\n",
    "print(arr[2])"
   ]
  },
  {
   "cell_type": "raw",
   "id": "f5be4143-c22f-4c64-be3e-1effd05c78b1",
   "metadata": {},
   "source": [
    "8.Given arr2=np.array([[5,10,15],[20,25,30]]),extract: The element at row 1,column 2 The second column The first roew"
   ]
  },
  {
   "cell_type": "code",
   "execution_count": 9,
   "id": "48620a9c-7bb4-457a-9dd9-158a5ab37dd9",
   "metadata": {},
   "outputs": [],
   "source": [
    "arr2=np.array([[5,10,15],[20,25,30]])"
   ]
  },
  {
   "cell_type": "code",
   "execution_count": 10,
   "id": "29e159b2-1a91-43a7-88bc-4e66b9ad5712",
   "metadata": {},
   "outputs": [
    {
     "name": "stdout",
     "output_type": "stream",
     "text": [
      "30\n",
      "[10 25]\n",
      "[ 5 10 15]\n"
     ]
    }
   ],
   "source": [
    "print(arr2[1,2])\n",
    "print(arr2[:,1])\n",
    "print(arr2[0,:])"
   ]
  },
  {
   "cell_type": "markdown",
   "id": "33e143aa-4ae3-4029-bbcd-32492f1cdc77",
   "metadata": {},
   "source": [
    "# Part D: Aggregate Functions"
   ]
  },
  {
   "cell_type": "raw",
   "id": "0319d2bf-f597-4bf1-8b9c-2bea3cd7509b",
   "metadata": {},
   "source": [
    "9.For arr=np.array([10, 20, 30, 40, 50]), find: Sum Mean Standard Deviation Minimum and Maximum values"
   ]
  },
  {
   "cell_type": "code",
   "execution_count": 11,
   "id": "d3ccd2b0-5667-44a7-b62f-c72265e8d8ac",
   "metadata": {},
   "outputs": [],
   "source": [
    "arr=np.array([10, 20, 30, 40, 50])"
   ]
  },
  {
   "cell_type": "code",
   "execution_count": 12,
   "id": "ce7e8c8d-63df-449d-a4c0-e4911dd7d143",
   "metadata": {},
   "outputs": [
    {
     "name": "stdout",
     "output_type": "stream",
     "text": [
      "150\n",
      "30.0\n",
      "14.142135623730951\n",
      "10\n",
      "50\n"
     ]
    }
   ],
   "source": [
    "print(np.sum(arr))     \n",
    "print(np.mean(arr))     \n",
    "print(np.std(arr))     \n",
    "print(np.min(arr))     \n",
    "print(np.max(arr))  "
   ]
  },
  {
   "cell_type": "markdown",
   "id": "a5a51d45-37c3-4026-af73-b461ff0778f4",
   "metadata": {},
   "source": [
    "# Part E: Boolean Masking and Random Numbers"
   ]
  },
  {
   "cell_type": "raw",
   "id": "016f2a03-ea35-448f-a7bb-ad627314eba7",
   "metadata": {},
   "source": [
    "10. From the array [5, 10, 15, 20, 25, 30], print only the values greater than 15."
   ]
  },
  {
   "cell_type": "code",
   "execution_count": 13,
   "id": "124b9a96-d5c2-459d-8f9f-d3b3ab665cc4",
   "metadata": {},
   "outputs": [
    {
     "name": "stdout",
     "output_type": "stream",
     "text": [
      "[20 25 30]\n"
     ]
    }
   ],
   "source": [
    "array=np.array([5, 10, 15, 20, 25, 30])\n",
    "print(array[array > 15])"
   ]
  },
  {
   "cell_type": "raw",
   "id": "ae6a585d-ad2b-451f-be22-72375708a687",
   "metadata": {},
   "source": [
    "11. Generate a 2x3 array with random integers between 10 and 50."
   ]
  },
  {
   "cell_type": "code",
   "execution_count": 14,
   "id": "857e83dc-f78a-4c74-8b3c-c5c58933232b",
   "metadata": {},
   "outputs": [
    {
     "name": "stdout",
     "output_type": "stream",
     "text": [
      "[[23 23 17]\n",
      " [12 28 11]]\n"
     ]
    }
   ],
   "source": [
    "print(np.random.randint(10,50,size=(2,3)))"
   ]
  },
  {
   "cell_type": "code",
   "execution_count": null,
   "id": "f8345f98-28de-42cd-8e08-e53a5a5c5503",
   "metadata": {},
   "outputs": [],
   "source": []
  }
 ],
 "metadata": {
  "kernelspec": {
   "display_name": "Python 3 (ipykernel)",
   "language": "python",
   "name": "python3"
  },
  "language_info": {
   "codemirror_mode": {
    "name": "ipython",
    "version": 3
   },
   "file_extension": ".py",
   "mimetype": "text/x-python",
   "name": "python",
   "nbconvert_exporter": "python",
   "pygments_lexer": "ipython3",
   "version": "3.13.3"
  }
 },
 "nbformat": 4,
 "nbformat_minor": 5
}
