{
 "cells": [
  {
   "cell_type": "markdown",
   "id": "014fecb6-a836-459a-bd3d-93b0c0210938",
   "metadata": {},
   "source": [
    "# create a class called Employee:"
   ]
  },
  {
   "cell_type": "code",
   "execution_count": 1,
   "id": "ca960951-35ac-462b-abd6-928ed1f35a52",
   "metadata": {},
   "outputs": [],
   "source": [
    "class employee:\n",
    "    def __init__(self, name , salary):\n",
    "        self.name=name\n",
    "        self.salary=salary\n",
    "    \n",
    "    def display(self):\n",
    "        print(f\"Name:{self.name} , Salary:{self.salary}\")"
   ]
  },
  {
   "cell_type": "code",
   "execution_count": 2,
   "id": "7dbef0c9-3ceb-4de0-9396-4c530e7acf12",
   "metadata": {},
   "outputs": [
    {
     "name": "stdout",
     "output_type": "stream",
     "text": [
      "Name:Raj , Salary:50000\n"
     ]
    }
   ],
   "source": [
    "emp=employee(\"Raj\" , 50000)\n",
    "emp.display()"
   ]
  },
  {
   "cell_type": "markdown",
   "id": "a13203ce-51b0-4cfe-b273-1f289903384b",
   "metadata": {},
   "source": [
    "# creata class called Rectangle:"
   ]
  },
  {
   "cell_type": "code",
   "execution_count": 3,
   "id": "82f28d4e-2989-4195-ace6-f323f6c7a2c7",
   "metadata": {},
   "outputs": [],
   "source": [
    "class rectangle:\n",
    "      def __init__(self, length ,breath):\n",
    "           self.length=length\n",
    "           self.breath=breath\n",
    "\n",
    "      def area(self):\n",
    "          return self.length* self.breath  # area=length*breath\n",
    "\n",
    "      def perimeter(self):\n",
    "           return 2*(self.length+ self.breath)   # perimeter=2*(length+breath)\n",
    "    "
   ]
  },
  {
   "cell_type": "code",
   "execution_count": 4,
   "id": "86ee01cf-43b0-4890-9a0f-35e7651dbac5",
   "metadata": {},
   "outputs": [
    {
     "name": "stdout",
     "output_type": "stream",
     "text": [
      "Area of Rectangle: 144\n",
      "Perimeter of Rectangle: 60\n"
     ]
    }
   ],
   "source": [
    "rect=rectangle(24,6)\n",
    "print(\"Area of Rectangle:\", rect.area())\n",
    "print(\"Perimeter of Rectangle:\",rect.perimeter())"
   ]
  },
  {
   "cell_type": "code",
   "execution_count": 5,
   "id": "314c7ee0-2967-43b7-8608-868f12e2d5fb",
   "metadata": {},
   "outputs": [],
   "source": [
    "class BankAccount:\n",
    "    def __init__(self, name, balance):\n",
    "        self.name=name\n",
    "        self.balance=balance\n",
    "\n",
    "    def deposit(self , amount):\n",
    "        if amount > 0:\n",
    "            self.balance +=amount\n",
    "            print(amount,\" deposite successfully\")\n",
    "\n",
    "    def withdraw(self,amount):\n",
    "        if amount > self.balance:\n",
    "            print(\"Insufficient balance:\")\n",
    "        elif amount <=0:\n",
    "            print(\"Withdrawal amount must be positive:\")\n",
    "        else:\n",
    "            self.balance -=amount\n",
    "            print(amount , \"withdraw successfully\")\n",
    "            \n",
    "    def display_balance(self):\n",
    "        print(\"name:\",self.name ,\"balance:\",self.balance)\n",
    "        "
   ]
  },
  {
   "cell_type": "code",
   "execution_count": 6,
   "id": "32e65024-9f60-4df1-80b8-38fb83c3515d",
   "metadata": {},
   "outputs": [
    {
     "name": "stdout",
     "output_type": "stream",
     "text": [
      "name: Sushmitha balance: 50000\n"
     ]
    }
   ],
   "source": [
    "account=BankAccount(\"Sushmitha\", 50000)\n",
    "account.display_balance()"
   ]
  },
  {
   "cell_type": "code",
   "execution_count": 7,
   "id": "fa3a2325-4a49-444a-a07e-69d482844220",
   "metadata": {},
   "outputs": [
    {
     "name": "stdout",
     "output_type": "stream",
     "text": [
      "5000  deposite successfully\n"
     ]
    }
   ],
   "source": [
    "account.deposit(5000)"
   ]
  },
  {
   "cell_type": "code",
   "execution_count": 8,
   "id": "36c06b60-4e4e-481a-b412-83e4c831522e",
   "metadata": {},
   "outputs": [
    {
     "name": "stdout",
     "output_type": "stream",
     "text": [
      "10000 withdraw successfully\n"
     ]
    }
   ],
   "source": [
    "account.withdraw(10000)"
   ]
  },
  {
   "cell_type": "code",
   "execution_count": 9,
   "id": "e3ff3c54-0118-4d99-814e-8bb70d94a1f9",
   "metadata": {},
   "outputs": [
    {
     "name": "stdout",
     "output_type": "stream",
     "text": [
      "name: Sushmitha balance: 45000\n"
     ]
    }
   ],
   "source": [
    "account.display_balance()"
   ]
  },
  {
   "cell_type": "code",
   "execution_count": null,
   "id": "7c03805e-0d72-41bf-998c-64fae032a80f",
   "metadata": {},
   "outputs": [],
   "source": []
  }
 ],
 "metadata": {
  "kernelspec": {
   "display_name": "Python 3 (ipykernel)",
   "language": "python",
   "name": "python3"
  },
  "language_info": {
   "codemirror_mode": {
    "name": "ipython",
    "version": 3
   },
   "file_extension": ".py",
   "mimetype": "text/x-python",
   "name": "python",
   "nbconvert_exporter": "python",
   "pygments_lexer": "ipython3",
   "version": "3.13.3"
  }
 },
 "nbformat": 4,
 "nbformat_minor": 5
}
