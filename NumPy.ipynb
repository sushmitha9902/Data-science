{
 "cells": [
  {
   "cell_type": "markdown",
   "id": "479dc286-64b3-4d15-9cf2-60ffd801c1a0",
   "metadata": {},
   "source": [
    "# Part A:Array Creation"
   ]
  },
  {
   "cell_type": "raw",
   "id": "fa628654-f129-4fc0-b88d-b7e477e23004",
   "metadata": {},
   "source": [
    "1.Create a 1D Numpy array with values from 1 to 10."
   ]
  },
  {
   "cell_type": "code",
   "execution_count": 1,
   "id": "77960bdf-1266-411d-8bc6-ec432011259e",
   "metadata": {},
   "outputs": [
    {
     "name": "stdout",
     "output_type": "stream",
     "text": [
      "[ 1  2  3  4  5  6  7  8  9 10]\n"
     ]
    }
   ],
   "source": [
    "import numpy as np\n",
    "D1=np.arange(1,11)\n",
    "print(D1)"
   ]
  },
  {
   "cell_type": "raw",
   "id": "ee8f161e-8ff1-48b0-958e-c24dd258c66f",
   "metadata": {},
   "source": [
    "2.Create a 2D array with shape (3,3) filled with ones."
   ]
  },
  {
   "cell_type": "code",
   "execution_count": 2,
   "id": "a7c581f7-75f1-4ef0-b92e-c87bfd1eb73d",
   "metadata": {},
   "outputs": [
    {
     "name": "stdout",
     "output_type": "stream",
     "text": [
      "[[1 1 1]\n",
      " [1 1 1]\n",
      " [1 1 1]]\n"
     ]
    }
   ],
   "source": [
    "D2=np.array([[1,1,1],[1,1,1],[1,1,1]])\n",
    "print(D2)"
   ]
  },
  {
   "cell_type": "raw",
   "id": "b0dae69e-15dc-45e6-965b-63798b7aaf9d",
   "metadata": {},
   "source": [
    "3.Create an array of 5 equally spaced number between 0 and 1"
   ]
  },
  {
   "cell_type": "code",
   "execution_count": 3,
   "id": "951139b9-f88a-411a-b496-3e29eddb4276",
   "metadata": {},
   "outputs": [
    {
     "name": "stdout",
     "output_type": "stream",
     "text": [
      "[0.   0.25 0.5  0.75 1.  ]\n"
     ]
    }
   ],
   "source": [
    "5.Create two array: a=[2,4,6] and b=[1,3,5] .Perform the following Addition Substraction Multiplication Divisionprint(d)"
   ]
  },
  {
   "cell_type": "raw",
   "id": "850802ee-d9c8-4ea8-95e9-e4477b54a2a8",
   "metadata": {},
   "source": [
    "4.Create a 3*3 identity matrix"
   ]
  },
  {
   "cell_type": "code",
   "execution_count": 4,
   "id": "7107c6eb-031c-4fb7-ad64-53616ee280c1",
   "metadata": {},
   "outputs": [
    {
     "name": "stdout",
     "output_type": "stream",
     "text": [
      "[[1. 0. 0.]\n",
      " [0. 1. 0.]\n",
      " [0. 0. 1.]]\n"
     ]
    }
   ],
   "source": [
    "print(np.eye(3,k=0))"
   ]
  },
  {
   "cell_type": "markdown",
   "id": "a3dd6406-7338-4943-9cde-7fd44ffd3134",
   "metadata": {},
   "source": [
    "# Part B:Array Operation"
   ]
  },
  {
   "cell_type": "raw",
   "id": "4dc94f8e-7c9b-492b-89ae-f1b6fb6e5eba",
   "metadata": {},
   "source": [
    "5.Create two array: a=[2,4,6] and b=[1,3,5] .Perform the following Addition Substraction Multiplication Division"
   ]
  },
  {
   "cell_type": "code",
   "execution_count": null,
   "id": "7df325c3-f1fe-4b29-a0cd-4b0a55482b27",
   "metadata": {},
   "outputs": [],
   "source": []
  }
 ],
 "metadata": {
  "kernelspec": {
   "display_name": "Python 3 (ipykernel)",
   "language": "python",
   "name": "python3"
  },
  "language_info": {
   "codemirror_mode": {
    "name": "ipython",
    "version": 3
   },
   "file_extension": ".py",
   "mimetype": "text/x-python",
   "name": "python",
   "nbconvert_exporter": "python",
   "pygments_lexer": "ipython3",
   "version": "3.13.3"
  }
 },
 "nbformat": 4,
 "nbformat_minor": 5
}
