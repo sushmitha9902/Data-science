{
 "cells": [
  {
   "cell_type": "code",
   "execution_count": null,
   "id": "de894842-a554-4e06-8ad5-7d6b4432fba6",
   "metadata": {},
   "outputs": [],
   "source": []
  }
 ],
 "metadata": {
  "kernelspec": {
   "display_name": "",
   "name": ""
  },
  "language_info": {
   "name": ""
  }
 },
 "nbformat": 4,
 "nbformat_minor": 5
}
