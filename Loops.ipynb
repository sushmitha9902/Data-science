{
 "cells": [
  {
   "cell_type": "markdown",
   "id": "fbd3a0ee-3ae3-40fd-bf80-49b194cb7a77",
   "metadata": {},
   "source": [
    "# using for loop"
   ]
  },
  {
   "cell_type": "code",
   "execution_count": 18,
   "id": "ace23ecb-0297-40d0-998f-8181e7201e02",
   "metadata": {},
   "outputs": [
    {
     "name": "stdout",
     "output_type": "stream",
     "text": [
      "1\n",
      "2\n",
      "3\n",
      "4\n",
      "5\n",
      "6\n",
      "7\n",
      "8\n",
      "9\n",
      "10\n"
     ]
    }
   ],
   "source": [
    "for i in range(1,11):\n",
    "    print(i)"
   ]
  },
  {
   "cell_type": "markdown",
   "id": "d1b61207-6f8b-45ed-b6d5-9bc336ecd138",
   "metadata": {},
   "source": [
    "# using range()"
   ]
  },
  {
   "cell_type": "code",
   "execution_count": 19,
   "id": "9a7dee14-5f5f-4ae0-8b07-a7c740c7a20a",
   "metadata": {},
   "outputs": [
    {
     "name": "stdout",
     "output_type": "stream",
     "text": [
      "2\n",
      "4\n",
      "6\n",
      "8\n",
      "10\n",
      "12\n",
      "14\n",
      "16\n",
      "18\n"
     ]
    }
   ],
   "source": [
    "for i in range(2,20,2):\n",
    "    print(i)"
   ]
  },
  {
   "cell_type": "markdown",
   "id": "512ebf89-e5be-4b47-9a57-cd322597d1b9",
   "metadata": {},
   "source": [
    "# using while loop"
   ]
  },
  {
   "cell_type": "code",
   "execution_count": 20,
   "id": "30c34060-8ac4-475e-b190-60293cec7c56",
   "metadata": {},
   "outputs": [
    {
     "name": "stdout",
     "output_type": "stream",
     "text": [
      "Python is fun 1\n",
      "Python is fun 2\n",
      "Python is fun 3\n",
      "Python is fun 4\n",
      "Python is fun 5\n"
     ]
    }
   ],
   "source": [
    "i =1\n",
    "while i <= 5:\n",
    "    print(\"Python is fun\",i)\n",
    "    i = i + 1"
   ]
  },
  {
   "cell_type": "markdown",
   "id": "7d5f801a-e76e-402b-9953-7b9899013285",
   "metadata": {},
   "source": [
    "# using for loop"
   ]
  },
  {
   "cell_type": "code",
   "execution_count": 21,
   "id": "85b428c6-e195-4b61-9156-656a6e8d7b1a",
   "metadata": {},
   "outputs": [
    {
     "name": "stdout",
     "output_type": "stream",
     "text": [
      "D\n",
      "a\n",
      "t\n",
      "a\n",
      " \n",
      "S\n",
      "c\n",
      "i\n",
      "e\n",
      "n\n",
      "c\n",
      "e\n"
     ]
    }
   ],
   "source": [
    "name =\"Data Science\"\n",
    "for char in name:\n",
    "    print(char)\n"
   ]
  },
  {
   "cell_type": "markdown",
   "id": "edc3b7aa-af7d-4d54-b9e3-8daa0e2f4fe0",
   "metadata": {},
   "source": [
    "# using loop"
   ]
  },
  {
   "cell_type": "code",
   "execution_count": 22,
   "id": "4d549ab2-27df-40f2-afcd-8beec7a5c116",
   "metadata": {},
   "outputs": [
    {
     "name": "stdout",
     "output_type": "stream",
     "text": [
      "S\n",
      "u\n",
      "s\n",
      "h\n",
      "m\n",
      "i\n",
      "t\n",
      "h\n",
      "a\n",
      " \n",
      "S\n",
      "u\n",
      "r\n",
      "e\n",
      "s\n",
      "h\n"
     ]
    }
   ],
   "source": [
    "for letter in 'Sushmitha Suresh':\n",
    "    print(letter)"
   ]
  },
  {
   "cell_type": "markdown",
   "id": "a9605fd7-9c27-4a9e-a85a-6ee8a6b8cfa9",
   "metadata": {},
   "source": [
    "# Print number from 10 to 1"
   ]
  },
  {
   "cell_type": "code",
   "execution_count": 23,
   "id": "f1067e4f-75df-4110-81ed-3aec85829532",
   "metadata": {},
   "outputs": [
    {
     "name": "stdout",
     "output_type": "stream",
     "text": [
      "number is  10\n",
      "number is  9\n",
      "number is  8\n",
      "number is  7\n",
      "number is  6\n",
      "number is  5\n",
      "number is  4\n",
      "number is  3\n",
      "number is  2\n",
      "number is  1\n"
     ]
    }
   ],
   "source": [
    "i = 10\n",
    "while i >= 1:\n",
    "    print(\"number is \", i)\n",
    "    i = i - 1"
   ]
  },
  {
   "cell_type": "markdown",
   "id": "e3f8560b-069f-455f-a6ca-8785701703e2",
   "metadata": {},
   "source": [
    "# sum of numbers"
   ]
  },
  {
   "cell_type": "code",
   "execution_count": 24,
   "id": "a4e6ddad-b598-4691-90fd-bdb7cd44621a",
   "metadata": {},
   "outputs": [
    {
     "name": "stdout",
     "output_type": "stream",
     "text": [
      "1\n",
      "3\n",
      "6\n",
      "10\n",
      "15\n",
      "21\n",
      "28\n",
      "36\n",
      "45\n",
      "55\n",
      "66\n",
      "78\n",
      "91\n",
      "105\n",
      "120\n",
      "136\n",
      "153\n",
      "171\n",
      "190\n",
      "210\n",
      "231\n",
      "253\n",
      "276\n",
      "300\n",
      "325\n",
      "351\n",
      "378\n",
      "406\n",
      "435\n",
      "465\n",
      "496\n",
      "528\n",
      "561\n",
      "595\n",
      "630\n",
      "666\n",
      "703\n",
      "741\n",
      "780\n",
      "820\n",
      "861\n",
      "903\n",
      "946\n",
      "990\n",
      "1035\n",
      "1081\n",
      "1128\n",
      "1176\n",
      "1225\n",
      "1275\n",
      "1326\n",
      "1378\n",
      "1431\n",
      "1485\n",
      "1540\n",
      "1596\n",
      "1653\n",
      "1711\n",
      "1770\n",
      "1830\n",
      "1891\n",
      "1953\n",
      "2016\n",
      "2080\n",
      "2145\n",
      "2211\n",
      "2278\n",
      "2346\n",
      "2415\n",
      "2485\n",
      "2556\n",
      "2628\n",
      "2701\n",
      "2775\n",
      "2850\n",
      "2926\n",
      "3003\n",
      "3081\n",
      "3160\n",
      "3240\n",
      "3321\n",
      "3403\n",
      "3486\n",
      "3570\n",
      "3655\n",
      "3741\n",
      "3828\n",
      "3916\n",
      "4005\n",
      "4095\n",
      "4186\n",
      "4278\n",
      "4371\n",
      "4465\n",
      "4560\n",
      "4656\n",
      "4753\n",
      "4851\n",
      "4950\n",
      "5050\n"
     ]
    }
   ],
   "source": [
    "num=0\n",
    "for number in range(1, 101):\n",
    "    num += number\n",
    "    print(num)"
   ]
  },
  {
   "cell_type": "markdown",
   "id": "35749da9-73be-4786-bc8e-ad9b54cfda6f",
   "metadata": {},
   "source": [
    "# While loop and break"
   ]
  },
  {
   "cell_type": "code",
   "execution_count": 26,
   "id": "2ca10787-97a7-4e5c-a661-706f4ed2d549",
   "metadata": {},
   "outputs": [
    {
     "name": "stdin",
     "output_type": "stream",
     "text": [
      "Enter a number (0 to stop): 6\n"
     ]
    },
    {
     "name": "stdout",
     "output_type": "stream",
     "text": [
      "6\n"
     ]
    },
    {
     "name": "stdin",
     "output_type": "stream",
     "text": [
      "Enter a number (0 to stop): 5\n"
     ]
    },
    {
     "name": "stdout",
     "output_type": "stream",
     "text": [
      "5\n"
     ]
    },
    {
     "name": "stdin",
     "output_type": "stream",
     "text": [
      "Enter a number (0 to stop): 0\n"
     ]
    }
   ],
   "source": [
    "while True:\n",
    "    num=int(input(\"Enter a number (0 to stop):\"))\n",
    "    if num == 0:\n",
    "        break\n",
    "    print(f\"{num}\")"
   ]
  },
  {
   "cell_type": "markdown",
   "id": "6849e387-b70e-4aec-ba96-4a451dd557c8",
   "metadata": {},
   "source": [
    "# using for loop and contuine"
   ]
  },
  {
   "cell_type": "code",
   "execution_count": 27,
   "id": "9b81205a-2d95-4131-a2e6-52c354e8941d",
   "metadata": {},
   "outputs": [
    {
     "name": "stdout",
     "output_type": "stream",
     "text": [
      "1\n",
      "2\n",
      "3\n",
      "4\n",
      "6\n",
      "7\n",
      "8\n",
      "9\n",
      "10\n"
     ]
    }
   ],
   "source": [
    "for i in range(1,11):\n",
    "    if(i ==5):\n",
    "        continue\n",
    "    print(i)"
   ]
  },
  {
   "cell_type": "code",
   "execution_count": null,
   "id": "cb181d35-978d-4736-a29c-7be785a6e342",
   "metadata": {},
   "outputs": [],
   "source": []
  }
 ],
 "metadata": {
  "kernelspec": {
   "display_name": "Python 3 (ipykernel)",
   "language": "python",
   "name": "python3"
  },
  "language_info": {
   "codemirror_mode": {
    "name": "ipython",
    "version": 3
   },
   "file_extension": ".py",
   "mimetype": "text/x-python",
   "name": "python",
   "nbconvert_exporter": "python",
   "pygments_lexer": "ipython3",
   "version": "3.13.3"
  }
 },
 "nbformat": 4,
 "nbformat_minor": 5
}
