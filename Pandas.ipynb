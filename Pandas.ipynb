{
 "cells": [
  {
   "cell_type": "code",
   "execution_count": 28,
   "id": "ce31d2ff-60eb-4d81-b160-e523af5dbfcb",
   "metadata": {},
   "outputs": [],
   "source": [
    "import pandas as pd"
   ]
  },
  {
   "cell_type": "markdown",
   "id": "c406a2d5-40e9-4110-b1b5-878690142ed9",
   "metadata": {},
   "source": [
    "# Part A: Data Creation & Exploration"
   ]
  },
  {
   "cell_type": "raw",
   "id": "66ebf4db-2c46-4164-a59d-2324379c453f",
   "metadata": {},
   "source": [
    "1. Create a Series with these exam scores: [78, 85, 90, 66, 72]."
   ]
  },
  {
   "cell_type": "code",
   "execution_count": 29,
   "id": "fc06b745-57d7-4b1b-ab19-8203898c6f4f",
   "metadata": {},
   "outputs": [
    {
     "name": "stdout",
     "output_type": "stream",
     "text": [
      "0    78\n",
      "1    85\n",
      "2    90\n",
      "3    66\n",
      "4    72\n",
      "dtype: int64\n"
     ]
    }
   ],
   "source": [
    "e = pd.Series([78, 85, 90, 66, 72])\n",
    "print(e)"
   ]
  },
  {
   "cell_type": "raw",
   "id": "c7da1671-8f0e-4a75-94b6-865596787ba8",
   "metadata": {},
   "source": [
    "2. Create a DataFrame with the following information:"
   ]
  },
  {
   "cell_type": "code",
   "execution_count": 61,
   "id": "cbae3e96-7d98-4885-b245-03ab2bc12761",
   "metadata": {},
   "outputs": [
    {
     "name": "stdout",
     "output_type": "stream",
     "text": [
      "  Employe Department  Experience (Years)\n",
      "0    John         HR                 3.0\n",
      "1   Priya         IT                 NaN\n",
      "2   Ahmed    Finance                 2.0\n",
      "3   Sneha  Marketing                 4.0\n"
     ]
    }
   ],
   "source": [
    "data = {\n",
    "    'Employe': ['John', 'Priya','Ahmed', 'Sneha'],\n",
    "    'Department': ['HR', 'IT', 'Finance' , 'Marketing'],\n",
    "    'Experience (Years)':[3,None,2,4]\n",
    "}\n",
    "sf= pd.DataFrame(data)\n",
    "print(sf)"
   ]
  },
  {
   "cell_type": "raw",
   "id": "19b2a862-db1b-46d5-bbeb-3e5de26c0a26",
   "metadata": {},
   "source": [
    "3. Display: The first 2 rows The column names The summary statistics"
   ]
  },
  {
   "cell_type": "code",
   "execution_count": 31,
   "id": "5ae4da4b-9b64-47e9-a53c-384e25fb43c4",
   "metadata": {},
   "outputs": [
    {
     "name": "stdout",
     "output_type": "stream",
     "text": [
      "  Employe Department  Experience (Years)\n",
      "0    John         HR                 3.0\n",
      "1   Priya         IT                 NaN\n"
     ]
    }
   ],
   "source": [
    "print(sf.head(2)) "
   ]
  },
  {
   "cell_type": "code",
   "execution_count": 32,
   "id": "b254212f-1e70-4837-be2a-28baa29ee5d6",
   "metadata": {},
   "outputs": [
    {
     "name": "stdout",
     "output_type": "stream",
     "text": [
      "Index(['Employe', 'Department', 'Experience (Years)'], dtype='object')\n"
     ]
    }
   ],
   "source": [
    "print(sf.columns) "
   ]
  },
  {
   "cell_type": "code",
   "execution_count": 33,
   "id": "866cd6a5-9d0b-43ff-abeb-66042ed23cc0",
   "metadata": {},
   "outputs": [
    {
     "name": "stdout",
     "output_type": "stream",
     "text": [
      "       Experience (Years)\n",
      "count                 3.0\n",
      "mean                  3.0\n",
      "std                   1.0\n",
      "min                   2.0\n",
      "25%                   2.5\n",
      "50%                   3.0\n",
      "75%                   3.5\n",
      "max                   4.0\n"
     ]
    }
   ],
   "source": [
    "print(sf.describe()) "
   ]
  },
  {
   "cell_type": "markdown",
   "id": "38260719-5db5-45cc-bf44-5742e9b7b00d",
   "metadata": {},
   "source": [
    "# Part B: File Handling"
   ]
  },
  {
   "cell_type": "raw",
   "id": "28d277ba-34ca-409f-ad7e-37ac3fb1f05b",
   "metadata": {},
   "source": [
    "4. Save the DataFrame to a CSV file called employees.csv."
   ]
  },
  {
   "cell_type": "code",
   "execution_count": 34,
   "id": "c773bd18-7ef9-4c3d-bcac-b65cdd9bed7e",
   "metadata": {},
   "outputs": [],
   "source": [
    "sf.to_csv(r'D:\\Sushmitha\\Data Science\\employees.csv', index=False)"
   ]
  },
  {
   "cell_type": "raw",
   "id": "f1c6e96c-ef5e-4de7-abb0-ecce947d7132",
   "metadata": {},
   "source": [
    "5. Read it back into a new DataFrame and print it."
   ]
  },
  {
   "cell_type": "code",
   "execution_count": 35,
   "id": "ea6013d4-e6a8-4e57-bb1f-60be3b479154",
   "metadata": {},
   "outputs": [
    {
     "data": {
      "text/html": [
       "<div>\n",
       "<style scoped>\n",
       "    .dataframe tbody tr th:only-of-type {\n",
       "        vertical-align: middle;\n",
       "    }\n",
       "\n",
       "    .dataframe tbody tr th {\n",
       "        vertical-align: top;\n",
       "    }\n",
       "\n",
       "    .dataframe thead th {\n",
       "        text-align: right;\n",
       "    }\n",
       "</style>\n",
       "<table border=\"1\" class=\"dataframe\">\n",
       "  <thead>\n",
       "    <tr style=\"text-align: right;\">\n",
       "      <th></th>\n",
       "      <th>Employe</th>\n",
       "      <th>Department</th>\n",
       "      <th>Experience (Years)</th>\n",
       "    </tr>\n",
       "  </thead>\n",
       "  <tbody>\n",
       "    <tr>\n",
       "      <th>0</th>\n",
       "      <td>John</td>\n",
       "      <td>HR</td>\n",
       "      <td>3.0</td>\n",
       "    </tr>\n",
       "    <tr>\n",
       "      <th>1</th>\n",
       "      <td>Priya</td>\n",
       "      <td>IT</td>\n",
       "      <td>NaN</td>\n",
       "    </tr>\n",
       "    <tr>\n",
       "      <th>2</th>\n",
       "      <td>Ahmed</td>\n",
       "      <td>Finance</td>\n",
       "      <td>2.0</td>\n",
       "    </tr>\n",
       "    <tr>\n",
       "      <th>3</th>\n",
       "      <td>Sneha</td>\n",
       "      <td>Marketing</td>\n",
       "      <td>4.0</td>\n",
       "    </tr>\n",
       "  </tbody>\n",
       "</table>\n",
       "</div>"
      ],
      "text/plain": [
       "  Employe Department  Experience (Years)\n",
       "0    John         HR                 3.0\n",
       "1   Priya         IT                 NaN\n",
       "2   Ahmed    Finance                 2.0\n",
       "3   Sneha  Marketing                 4.0"
      ]
     },
     "execution_count": 35,
     "metadata": {},
     "output_type": "execute_result"
    }
   ],
   "source": [
    "sf_csv = pd.read_csv(r'D:\\Sushmitha\\Data Science\\employees.csv')\n",
    "sf"
   ]
  },
  {
   "cell_type": "markdown",
   "id": "7dd48b50-c585-45d1-838d-2f4d60be311d",
   "metadata": {},
   "source": [
    "# Part C: Data Selection and Filtering"
   ]
  },
  {
   "cell_type": "raw",
   "id": "19ca2267-f5c1-4bcc-92ec-11e08d082443",
   "metadata": {},
   "source": [
    "6. Do the following: Print the 'Employee' column Print the row at index 2 Show only rows where Experience > 3"
   ]
  },
  {
   "cell_type": "code",
   "execution_count": 36,
   "id": "8ffab6a7-a262-4cb6-a973-402e8bd2cb6f",
   "metadata": {},
   "outputs": [
    {
     "name": "stdout",
     "output_type": "stream",
     "text": [
      "0     John\n",
      "1    Priya\n",
      "2    Ahmed\n",
      "3    Sneha\n",
      "Name: Employe, dtype: object\n"
     ]
    }
   ],
   "source": [
    "print(sf['Employe'])"
   ]
  },
  {
   "cell_type": "code",
   "execution_count": 37,
   "id": "a3aaa150-fc02-4509-9e20-b43935a20356",
   "metadata": {},
   "outputs": [
    {
     "name": "stdout",
     "output_type": "stream",
     "text": [
      "Employe                 Ahmed\n",
      "Department            Finance\n",
      "Experience (Years)        2.0\n",
      "Name: 2, dtype: object\n"
     ]
    }
   ],
   "source": [
    "print(sf.loc[2]) "
   ]
  },
  {
   "cell_type": "code",
   "execution_count": 38,
   "id": "ddfb2c91-6669-4b73-a1aa-17fe6009f177",
   "metadata": {},
   "outputs": [
    {
     "name": "stdout",
     "output_type": "stream",
     "text": [
      "  Employe Department  Experience (Years)\n",
      "3   Sneha  Marketing                 4.0\n"
     ]
    }
   ],
   "source": [
    "print(sf[sf['Experience (Years)'] > 3])"
   ]
  },
  {
   "cell_type": "code",
   "execution_count": 39,
   "id": "4f37402b-3098-45af-beb9-127594aa35c6",
   "metadata": {},
   "outputs": [
    {
     "name": "stdout",
     "output_type": "stream",
     "text": [
      "  Employe Department  Experience (Years)\n",
      "0    John         HR                 3.0\n",
      "3   Sneha  Marketing                 4.0\n"
     ]
    }
   ],
   "source": [
    "print(sf[sf['Experience (Years)'] >= 3])"
   ]
  },
  {
   "cell_type": "raw",
   "id": "5f778427-cbdc-43ac-9c70-a1e5a199fd21",
   "metadata": {},
   "source": [
    "7. Add a new column 'Salary' with values [40000, 55000, 42000, 50000]."
   ]
  },
  {
   "cell_type": "code",
   "execution_count": 68,
   "id": "2e3fe53e-0ff5-4e6d-b430-a98ce1b124bf",
   "metadata": {},
   "outputs": [],
   "source": [
    "sf['Salary'] = [40000, 55000, 42000, 50000]"
   ]
  },
  {
   "cell_type": "code",
   "execution_count": 69,
   "id": "78889fa8-6776-432c-b8bb-d1710f42ecb6",
   "metadata": {},
   "outputs": [
    {
     "data": {
      "text/html": [
       "<div>\n",
       "<style scoped>\n",
       "    .dataframe tbody tr th:only-of-type {\n",
       "        vertical-align: middle;\n",
       "    }\n",
       "\n",
       "    .dataframe tbody tr th {\n",
       "        vertical-align: top;\n",
       "    }\n",
       "\n",
       "    .dataframe thead th {\n",
       "        text-align: right;\n",
       "    }\n",
       "</style>\n",
       "<table border=\"1\" class=\"dataframe\">\n",
       "  <thead>\n",
       "    <tr style=\"text-align: right;\">\n",
       "      <th></th>\n",
       "      <th>Department</th>\n",
       "      <th>Experience (Years)</th>\n",
       "      <th>Experience_plus_1</th>\n",
       "      <th>Salary</th>\n",
       "    </tr>\n",
       "    <tr>\n",
       "      <th>Employe</th>\n",
       "      <th></th>\n",
       "      <th></th>\n",
       "      <th></th>\n",
       "      <th></th>\n",
       "    </tr>\n",
       "  </thead>\n",
       "  <tbody>\n",
       "    <tr>\n",
       "      <th>John</th>\n",
       "      <td>HR</td>\n",
       "      <td>3.0</td>\n",
       "      <td>4.0</td>\n",
       "      <td>40000</td>\n",
       "    </tr>\n",
       "    <tr>\n",
       "      <th>Priya</th>\n",
       "      <td>IT</td>\n",
       "      <td>NaN</td>\n",
       "      <td>NaN</td>\n",
       "      <td>55000</td>\n",
       "    </tr>\n",
       "    <tr>\n",
       "      <th>Ahmed</th>\n",
       "      <td>Finance</td>\n",
       "      <td>2.0</td>\n",
       "      <td>3.0</td>\n",
       "      <td>42000</td>\n",
       "    </tr>\n",
       "    <tr>\n",
       "      <th>Sneha</th>\n",
       "      <td>Marketing</td>\n",
       "      <td>4.0</td>\n",
       "      <td>5.0</td>\n",
       "      <td>50000</td>\n",
       "    </tr>\n",
       "  </tbody>\n",
       "</table>\n",
       "</div>"
      ],
      "text/plain": [
       "        Department  Experience (Years)  Experience_plus_1  Salary\n",
       "Employe                                                          \n",
       "John            HR                 3.0                4.0   40000\n",
       "Priya           IT                 NaN                NaN   55000\n",
       "Ahmed      Finance                 2.0                3.0   42000\n",
       "Sneha    Marketing                 4.0                5.0   50000"
      ]
     },
     "execution_count": 69,
     "metadata": {},
     "output_type": "execute_result"
    }
   ],
   "source": [
    "sf"
   ]
  },
  {
   "cell_type": "raw",
   "id": "86113353-df82-469d-8af9-6b385e1ced68",
   "metadata": {},
   "source": [
    "8. Remove the 'Department' column."
   ]
  },
  {
   "cell_type": "code",
   "execution_count": 42,
   "id": "de9707c5-3b50-4172-aeb3-926d34209cca",
   "metadata": {},
   "outputs": [],
   "source": [
    "sf = sf.drop('Department', axis=1)"
   ]
  },
  {
   "cell_type": "code",
   "execution_count": 43,
   "id": "30c5da59-6eef-4707-987d-8cae957a7d75",
   "metadata": {},
   "outputs": [
    {
     "data": {
      "text/html": [
       "<div>\n",
       "<style scoped>\n",
       "    .dataframe tbody tr th:only-of-type {\n",
       "        vertical-align: middle;\n",
       "    }\n",
       "\n",
       "    .dataframe tbody tr th {\n",
       "        vertical-align: top;\n",
       "    }\n",
       "\n",
       "    .dataframe thead th {\n",
       "        text-align: right;\n",
       "    }\n",
       "</style>\n",
       "<table border=\"1\" class=\"dataframe\">\n",
       "  <thead>\n",
       "    <tr style=\"text-align: right;\">\n",
       "      <th></th>\n",
       "      <th>Employe</th>\n",
       "      <th>Experience (Years)</th>\n",
       "      <th>Salary</th>\n",
       "    </tr>\n",
       "  </thead>\n",
       "  <tbody>\n",
       "    <tr>\n",
       "      <th>0</th>\n",
       "      <td>John</td>\n",
       "      <td>3.0</td>\n",
       "      <td>40000</td>\n",
       "    </tr>\n",
       "    <tr>\n",
       "      <th>1</th>\n",
       "      <td>Priya</td>\n",
       "      <td>NaN</td>\n",
       "      <td>55000</td>\n",
       "    </tr>\n",
       "    <tr>\n",
       "      <th>2</th>\n",
       "      <td>Ahmed</td>\n",
       "      <td>2.0</td>\n",
       "      <td>42000</td>\n",
       "    </tr>\n",
       "    <tr>\n",
       "      <th>3</th>\n",
       "      <td>Sneha</td>\n",
       "      <td>4.0</td>\n",
       "      <td>50000</td>\n",
       "    </tr>\n",
       "  </tbody>\n",
       "</table>\n",
       "</div>"
      ],
      "text/plain": [
       "  Employe  Experience (Years)  Salary\n",
       "0    John                 3.0   40000\n",
       "1   Priya                 NaN   55000\n",
       "2   Ahmed                 2.0   42000\n",
       "3   Sneha                 4.0   50000"
      ]
     },
     "execution_count": 43,
     "metadata": {},
     "output_type": "execute_result"
    }
   ],
   "source": [
    "sf"
   ]
  },
  {
   "cell_type": "markdown",
   "id": "11753238-b5c7-4938-a204-a88f96070077",
   "metadata": {},
   "source": [
    "# 3 Part D: Handling Missing Values"
   ]
  },
  {
   "cell_type": "raw",
   "id": "5e946471-4ac8-4c68-8234-03dd79e99d05",
   "metadata": {},
   "source": [
    "9. Add a row with missing experience and fill it with the mean."
   ]
  },
  {
   "cell_type": "code",
   "execution_count": 59,
   "id": "7f7e542e-4ddd-4635-884c-6ebe7855bf5a",
   "metadata": {},
   "outputs": [
    {
     "ename": "KeyError",
     "evalue": "'Experience (Years)'",
     "output_type": "error",
     "traceback": [
      "\u001b[31m---------------------------------------------------------------------------\u001b[39m",
      "\u001b[31mKeyError\u001b[39m                                  Traceback (most recent call last)",
      "\u001b[36mFile \u001b[39m\u001b[32m~\\AppData\\Local\\Programs\\Python\\Python313\\Lib\\site-packages\\pandas\\core\\indexes\\base.py:3805\u001b[39m, in \u001b[36mIndex.get_loc\u001b[39m\u001b[34m(self, key)\u001b[39m\n\u001b[32m   3804\u001b[39m \u001b[38;5;28;01mtry\u001b[39;00m:\n\u001b[32m-> \u001b[39m\u001b[32m3805\u001b[39m     \u001b[38;5;28;01mreturn\u001b[39;00m \u001b[38;5;28;43mself\u001b[39;49m\u001b[43m.\u001b[49m\u001b[43m_engine\u001b[49m\u001b[43m.\u001b[49m\u001b[43mget_loc\u001b[49m\u001b[43m(\u001b[49m\u001b[43mcasted_key\u001b[49m\u001b[43m)\u001b[49m\n\u001b[32m   3806\u001b[39m \u001b[38;5;28;01mexcept\u001b[39;00m \u001b[38;5;167;01mKeyError\u001b[39;00m \u001b[38;5;28;01mas\u001b[39;00m err:\n",
      "\u001b[36mFile \u001b[39m\u001b[32mindex.pyx:167\u001b[39m, in \u001b[36mpandas._libs.index.IndexEngine.get_loc\u001b[39m\u001b[34m()\u001b[39m\n",
      "\u001b[36mFile \u001b[39m\u001b[32mindex.pyx:196\u001b[39m, in \u001b[36mpandas._libs.index.IndexEngine.get_loc\u001b[39m\u001b[34m()\u001b[39m\n",
      "\u001b[36mFile \u001b[39m\u001b[32mpandas\\\\_libs\\\\hashtable_class_helper.pxi:7081\u001b[39m, in \u001b[36mpandas._libs.hashtable.PyObjectHashTable.get_item\u001b[39m\u001b[34m()\u001b[39m\n",
      "\u001b[36mFile \u001b[39m\u001b[32mpandas\\\\_libs\\\\hashtable_class_helper.pxi:7089\u001b[39m, in \u001b[36mpandas._libs.hashtable.PyObjectHashTable.get_item\u001b[39m\u001b[34m()\u001b[39m\n",
      "\u001b[31mKeyError\u001b[39m: 'Experience (Years)'",
      "\nThe above exception was the direct cause of the following exception:\n",
      "\u001b[31mKeyError\u001b[39m                                  Traceback (most recent call last)",
      "\u001b[36mCell\u001b[39m\u001b[36m \u001b[39m\u001b[32mIn[59]\u001b[39m\u001b[32m, line 1\u001b[39m\n\u001b[32m----> \u001b[39m\u001b[32m1\u001b[39m \u001b[43msf\u001b[49m\u001b[43m[\u001b[49m\u001b[33;43m'\u001b[39;49m\u001b[33;43mExperience (Years)\u001b[39;49m\u001b[33;43m'\u001b[39;49m\u001b[43m]\u001b[49m.fillna(sf[\u001b[33m'\u001b[39m\u001b[33mExperience (Years)\u001b[39m\u001b[33m'\u001b[39m].mean(), inplace=\u001b[38;5;28;01mTrue\u001b[39;00m) \n\u001b[32m      2\u001b[39m sf\n",
      "\u001b[36mFile \u001b[39m\u001b[32m~\\AppData\\Local\\Programs\\Python\\Python313\\Lib\\site-packages\\pandas\\core\\frame.py:4102\u001b[39m, in \u001b[36mDataFrame.__getitem__\u001b[39m\u001b[34m(self, key)\u001b[39m\n\u001b[32m   4100\u001b[39m \u001b[38;5;28;01mif\u001b[39;00m \u001b[38;5;28mself\u001b[39m.columns.nlevels > \u001b[32m1\u001b[39m:\n\u001b[32m   4101\u001b[39m     \u001b[38;5;28;01mreturn\u001b[39;00m \u001b[38;5;28mself\u001b[39m._getitem_multilevel(key)\n\u001b[32m-> \u001b[39m\u001b[32m4102\u001b[39m indexer = \u001b[38;5;28;43mself\u001b[39;49m\u001b[43m.\u001b[49m\u001b[43mcolumns\u001b[49m\u001b[43m.\u001b[49m\u001b[43mget_loc\u001b[49m\u001b[43m(\u001b[49m\u001b[43mkey\u001b[49m\u001b[43m)\u001b[49m\n\u001b[32m   4103\u001b[39m \u001b[38;5;28;01mif\u001b[39;00m is_integer(indexer):\n\u001b[32m   4104\u001b[39m     indexer = [indexer]\n",
      "\u001b[36mFile \u001b[39m\u001b[32m~\\AppData\\Local\\Programs\\Python\\Python313\\Lib\\site-packages\\pandas\\core\\indexes\\base.py:3812\u001b[39m, in \u001b[36mIndex.get_loc\u001b[39m\u001b[34m(self, key)\u001b[39m\n\u001b[32m   3807\u001b[39m     \u001b[38;5;28;01mif\u001b[39;00m \u001b[38;5;28misinstance\u001b[39m(casted_key, \u001b[38;5;28mslice\u001b[39m) \u001b[38;5;129;01mor\u001b[39;00m (\n\u001b[32m   3808\u001b[39m         \u001b[38;5;28misinstance\u001b[39m(casted_key, abc.Iterable)\n\u001b[32m   3809\u001b[39m         \u001b[38;5;129;01mand\u001b[39;00m \u001b[38;5;28many\u001b[39m(\u001b[38;5;28misinstance\u001b[39m(x, \u001b[38;5;28mslice\u001b[39m) \u001b[38;5;28;01mfor\u001b[39;00m x \u001b[38;5;129;01min\u001b[39;00m casted_key)\n\u001b[32m   3810\u001b[39m     ):\n\u001b[32m   3811\u001b[39m         \u001b[38;5;28;01mraise\u001b[39;00m InvalidIndexError(key)\n\u001b[32m-> \u001b[39m\u001b[32m3812\u001b[39m     \u001b[38;5;28;01mraise\u001b[39;00m \u001b[38;5;167;01mKeyError\u001b[39;00m(key) \u001b[38;5;28;01mfrom\u001b[39;00m\u001b[38;5;250m \u001b[39m\u001b[34;01merr\u001b[39;00m\n\u001b[32m   3813\u001b[39m \u001b[38;5;28;01mexcept\u001b[39;00m \u001b[38;5;167;01mTypeError\u001b[39;00m:\n\u001b[32m   3814\u001b[39m     \u001b[38;5;66;03m# If we have a listlike key, _check_indexing_error will raise\u001b[39;00m\n\u001b[32m   3815\u001b[39m     \u001b[38;5;66;03m#  InvalidIndexError. Otherwise we fall through and re-raise\u001b[39;00m\n\u001b[32m   3816\u001b[39m     \u001b[38;5;66;03m#  the TypeError.\u001b[39;00m\n\u001b[32m   3817\u001b[39m     \u001b[38;5;28mself\u001b[39m._check_indexing_error(key)\n",
      "\u001b[31mKeyError\u001b[39m: 'Experience (Years)'"
     ]
    }
   ],
   "source": [
    "sf['Experience (Years)'].fillna(sf['Experience (Years)'].mean(), inplace=True) \n",
    "sf"
   ]
  },
  {
   "cell_type": "markdown",
   "id": "8e0b01ab-5e55-4e13-8238-68818d673ef7",
   "metadata": {},
   "source": [
    "# Part E: Sorting and Grouping"
   ]
  },
  {
   "cell_type": "raw",
   "id": "29a8a122-628e-4116-996f-99b538274d79",
   "metadata": {},
   "source": [
    "10. Sort the data by 'Experience (Years)' in ascending order."
   ]
  },
  {
   "cell_type": "code",
   "execution_count": 45,
   "id": "b2d0fe90-ea05-40c8-96f5-25155e2137d9",
   "metadata": {},
   "outputs": [
    {
     "name": "stdout",
     "output_type": "stream",
     "text": [
      "  Employe  Experience (Years)  Salary\n",
      "2   Ahmed                 2.0   42000\n",
      "0    John                 3.0   40000\n",
      "1   Priya                 3.0   55000\n",
      "3   Sneha                 4.0   50000\n"
     ]
    }
   ],
   "source": [
    "print(sf.sort_values('Experience (Years)'))"
   ]
  },
  {
   "cell_type": "code",
   "execution_count": 66,
   "id": "ebfe3ad7-2b7c-48e1-8887-12a073934607",
   "metadata": {},
   "outputs": [
    {
     "name": "stdout",
     "output_type": "stream",
     "text": [
      "        Department  Experience (Years)  Experience_plus_1\n",
      "Employe                                                  \n",
      "Ahmed      Finance                 2.0                3.0\n",
      "John            HR                 3.0                4.0\n",
      "Sneha    Marketing                 4.0                5.0\n",
      "Priya           IT                 NaN                NaN\n"
     ]
    }
   ],
   "source": [
    "print(sf.sort_values('Experience (Years)', ascending=True))"
   ]
  },
  {
   "cell_type": "raw",
   "id": "cc19e97b-8406-43e4-9d25-209557cf7d11",
   "metadata": {},
   "source": [
    "11. Use groupby to calculate average sales per region:"
   ]
  },
  {
   "cell_type": "code",
   "execution_count": 47,
   "id": "ad420ea7-3616-4aca-879f-e0d76a8c323e",
   "metadata": {},
   "outputs": [
    {
     "data": {
      "text/html": [
       "<div>\n",
       "<style scoped>\n",
       "    .dataframe tbody tr th:only-of-type {\n",
       "        vertical-align: middle;\n",
       "    }\n",
       "\n",
       "    .dataframe tbody tr th {\n",
       "        vertical-align: top;\n",
       "    }\n",
       "\n",
       "    .dataframe thead th {\n",
       "        text-align: right;\n",
       "    }\n",
       "</style>\n",
       "<table border=\"1\" class=\"dataframe\">\n",
       "  <thead>\n",
       "    <tr style=\"text-align: right;\">\n",
       "      <th></th>\n",
       "      <th>Region</th>\n",
       "      <th>Sales</th>\n",
       "    </tr>\n",
       "  </thead>\n",
       "  <tbody>\n",
       "    <tr>\n",
       "      <th>0</th>\n",
       "      <td>North</td>\n",
       "      <td>12000</td>\n",
       "    </tr>\n",
       "    <tr>\n",
       "      <th>1</th>\n",
       "      <td>South</td>\n",
       "      <td>15000</td>\n",
       "    </tr>\n",
       "    <tr>\n",
       "      <th>2</th>\n",
       "      <td>North</td>\n",
       "      <td>11000</td>\n",
       "    </tr>\n",
       "    <tr>\n",
       "      <th>3</th>\n",
       "      <td>East</td>\n",
       "      <td>13000</td>\n",
       "    </tr>\n",
       "    <tr>\n",
       "      <th>4</th>\n",
       "      <td>West</td>\n",
       "      <td>12500</td>\n",
       "    </tr>\n",
       "    <tr>\n",
       "      <th>5</th>\n",
       "      <td>South</td>\n",
       "      <td>14000</td>\n",
       "    </tr>\n",
       "  </tbody>\n",
       "</table>\n",
       "</div>"
      ],
      "text/plain": [
       "  Region  Sales\n",
       "0  North  12000\n",
       "1  South  15000\n",
       "2  North  11000\n",
       "3   East  13000\n",
       "4   West  12500\n",
       "5  South  14000"
      ]
     },
     "execution_count": 47,
     "metadata": {},
     "output_type": "execute_result"
    }
   ],
   "source": [
    "data = {\n",
    "    'Region': ['North', 'South', 'North', 'East', 'West', 'South'],\n",
    "    'Sales': [12000, 15000, 11000, 13000, 12500, 14000]\n",
    "}\n",
    "sf = pd.DataFrame(data)\n",
    "sf"
   ]
  },
  {
   "cell_type": "code",
   "execution_count": 48,
   "id": "b56fce20-f5eb-45f8-9b8a-3fb1f5cb4564",
   "metadata": {},
   "outputs": [
    {
     "data": {
      "text/plain": [
       "Region\n",
       "East     13000.0\n",
       "North    11500.0\n",
       "South    14500.0\n",
       "West     12500.0\n",
       "Name: Sales, dtype: float64"
      ]
     },
     "execution_count": 48,
     "metadata": {},
     "output_type": "execute_result"
    }
   ],
   "source": [
    "average = sf.groupby('Region')['Sales'].mean()\n",
    "average"
   ]
  },
  {
   "cell_type": "markdown",
   "id": "8cfba910-0b91-4697-9950-98c88334b5c6",
   "metadata": {},
   "source": [
    "# Part F: Merging, Concatenation, and Apply"
   ]
  },
  {
   "cell_type": "raw",
   "id": "df4f7504-cfac-44b2-b78e-f6004b5ecafd",
   "metadata": {},
   "source": [
    "12. Merge:"
   ]
  },
  {
   "cell_type": "code",
   "execution_count": 49,
   "id": "d9c911a9-9f42-4345-a536-bc899c3152db",
   "metadata": {},
   "outputs": [
    {
     "data": {
      "text/html": [
       "<div>\n",
       "<style scoped>\n",
       "    .dataframe tbody tr th:only-of-type {\n",
       "        vertical-align: middle;\n",
       "    }\n",
       "\n",
       "    .dataframe tbody tr th {\n",
       "        vertical-align: top;\n",
       "    }\n",
       "\n",
       "    .dataframe thead th {\n",
       "        text-align: right;\n",
       "    }\n",
       "</style>\n",
       "<table border=\"1\" class=\"dataframe\">\n",
       "  <thead>\n",
       "    <tr style=\"text-align: right;\">\n",
       "      <th></th>\n",
       "      <th>EmpID</th>\n",
       "      <th>Bonus</th>\n",
       "    </tr>\n",
       "  </thead>\n",
       "  <tbody>\n",
       "    <tr>\n",
       "      <th>0</th>\n",
       "      <td>1</td>\n",
       "      <td>5000</td>\n",
       "    </tr>\n",
       "    <tr>\n",
       "      <th>1</th>\n",
       "      <td>2</td>\n",
       "      <td>7000</td>\n",
       "    </tr>\n",
       "  </tbody>\n",
       "</table>\n",
       "</div>"
      ],
      "text/plain": [
       "   EmpID  Bonus\n",
       "0      1   5000\n",
       "1      2   7000"
      ]
     },
     "execution_count": 49,
     "metadata": {},
     "output_type": "execute_result"
    }
   ],
   "source": [
    "sf1 = pd.DataFrame({'EmpID': [1, 2], 'Name': ['John', 'Priya']})\n",
    "sf2 = pd.DataFrame({'EmpID': [1, 2], 'Bonus': [5000, 7000]})\n",
    "sf1\n",
    "sf2"
   ]
  },
  {
   "cell_type": "code",
   "execution_count": 50,
   "id": "e4b77059-ee7b-4dcf-a33b-264c78e487dc",
   "metadata": {},
   "outputs": [
    {
     "name": "stdout",
     "output_type": "stream",
     "text": [
      "   EmpID   Name  Bonus\n",
      "0      1   John   5000\n",
      "1      2  Priya   7000\n"
     ]
    }
   ],
   "source": [
    "result = pd.merge(sf1, sf2, on='EmpID')\n",
    "print(result)"
   ]
  },
  {
   "cell_type": "raw",
   "id": "9e472bf9-17d4-4781-822b-fb10f22ca477",
   "metadata": {},
   "source": [
    "13. Concatenate:"
   ]
  },
  {
   "cell_type": "code",
   "execution_count": 51,
   "id": "7e2e01f6-f642-42b3-8df8-177f615fecb8",
   "metadata": {},
   "outputs": [
    {
     "data": {
      "text/html": [
       "<div>\n",
       "<style scoped>\n",
       "    .dataframe tbody tr th:only-of-type {\n",
       "        vertical-align: middle;\n",
       "    }\n",
       "\n",
       "    .dataframe tbody tr th {\n",
       "        vertical-align: top;\n",
       "    }\n",
       "\n",
       "    .dataframe thead th {\n",
       "        text-align: right;\n",
       "    }\n",
       "</style>\n",
       "<table border=\"1\" class=\"dataframe\">\n",
       "  <thead>\n",
       "    <tr style=\"text-align: right;\">\n",
       "      <th></th>\n",
       "      <th>X</th>\n",
       "    </tr>\n",
       "  </thead>\n",
       "  <tbody>\n",
       "    <tr>\n",
       "      <th>0</th>\n",
       "      <td>30</td>\n",
       "    </tr>\n",
       "    <tr>\n",
       "      <th>1</th>\n",
       "      <td>40</td>\n",
       "    </tr>\n",
       "  </tbody>\n",
       "</table>\n",
       "</div>"
      ],
      "text/plain": [
       "    X\n",
       "0  30\n",
       "1  40"
      ]
     },
     "execution_count": 51,
     "metadata": {},
     "output_type": "execute_result"
    }
   ],
   "source": [
    "sf1 = pd.DataFrame({'X': [10, 20]})\n",
    "sf2 = pd.DataFrame({'X': [30, 40]})\n",
    "sf1\n",
    "sf2"
   ]
  },
  {
   "cell_type": "code",
   "execution_count": 52,
   "id": "fd902ef1-91ea-4898-9ca9-d9c1bd054557",
   "metadata": {},
   "outputs": [
    {
     "data": {
      "text/html": [
       "<div>\n",
       "<style scoped>\n",
       "    .dataframe tbody tr th:only-of-type {\n",
       "        vertical-align: middle;\n",
       "    }\n",
       "\n",
       "    .dataframe tbody tr th {\n",
       "        vertical-align: top;\n",
       "    }\n",
       "\n",
       "    .dataframe thead th {\n",
       "        text-align: right;\n",
       "    }\n",
       "</style>\n",
       "<table border=\"1\" class=\"dataframe\">\n",
       "  <thead>\n",
       "    <tr style=\"text-align: right;\">\n",
       "      <th></th>\n",
       "      <th>X</th>\n",
       "    </tr>\n",
       "  </thead>\n",
       "  <tbody>\n",
       "    <tr>\n",
       "      <th>0</th>\n",
       "      <td>10</td>\n",
       "    </tr>\n",
       "    <tr>\n",
       "      <th>1</th>\n",
       "      <td>20</td>\n",
       "    </tr>\n",
       "    <tr>\n",
       "      <th>0</th>\n",
       "      <td>30</td>\n",
       "    </tr>\n",
       "    <tr>\n",
       "      <th>1</th>\n",
       "      <td>40</td>\n",
       "    </tr>\n",
       "  </tbody>\n",
       "</table>\n",
       "</div>"
      ],
      "text/plain": [
       "    X\n",
       "0  10\n",
       "1  20\n",
       "0  30\n",
       "1  40"
      ]
     },
     "execution_count": 52,
     "metadata": {},
     "output_type": "execute_result"
    }
   ],
   "source": [
    "result = pd.concat([sf1,sf2])\n",
    "result"
   ]
  },
  {
   "cell_type": "raw",
   "id": "f857f2a9-fc30-45f2-89a4-5834dfc4dffa",
   "metadata": {},
   "source": [
    "14. Add a new column 'Experience_plus_1' which adds 1 to experience."
   ]
  },
  {
   "cell_type": "code",
   "execution_count": 63,
   "id": "c765a998-9506-48d2-98d4-ecb5d925a5de",
   "metadata": {},
   "outputs": [
    {
     "data": {
      "text/html": [
       "<div>\n",
       "<style scoped>\n",
       "    .dataframe tbody tr th:only-of-type {\n",
       "        vertical-align: middle;\n",
       "    }\n",
       "\n",
       "    .dataframe tbody tr th {\n",
       "        vertical-align: top;\n",
       "    }\n",
       "\n",
       "    .dataframe thead th {\n",
       "        text-align: right;\n",
       "    }\n",
       "</style>\n",
       "<table border=\"1\" class=\"dataframe\">\n",
       "  <thead>\n",
       "    <tr style=\"text-align: right;\">\n",
       "      <th></th>\n",
       "      <th>Department</th>\n",
       "      <th>Experience (Years)</th>\n",
       "      <th>Experience_plus_1</th>\n",
       "    </tr>\n",
       "    <tr>\n",
       "      <th>Employe</th>\n",
       "      <th></th>\n",
       "      <th></th>\n",
       "      <th></th>\n",
       "    </tr>\n",
       "  </thead>\n",
       "  <tbody>\n",
       "    <tr>\n",
       "      <th>John</th>\n",
       "      <td>HR</td>\n",
       "      <td>3.0</td>\n",
       "      <td>4.0</td>\n",
       "    </tr>\n",
       "    <tr>\n",
       "      <th>Priya</th>\n",
       "      <td>IT</td>\n",
       "      <td>NaN</td>\n",
       "      <td>NaN</td>\n",
       "    </tr>\n",
       "    <tr>\n",
       "      <th>Ahmed</th>\n",
       "      <td>Finance</td>\n",
       "      <td>2.0</td>\n",
       "      <td>3.0</td>\n",
       "    </tr>\n",
       "    <tr>\n",
       "      <th>Sneha</th>\n",
       "      <td>Marketing</td>\n",
       "      <td>4.0</td>\n",
       "      <td>5.0</td>\n",
       "    </tr>\n",
       "  </tbody>\n",
       "</table>\n",
       "</div>"
      ],
      "text/plain": [
       "        Department  Experience (Years)  Experience_plus_1\n",
       "Employe                                                  \n",
       "John            HR                 3.0                4.0\n",
       "Priya           IT                 NaN                NaN\n",
       "Ahmed      Finance                 2.0                3.0\n",
       "Sneha    Marketing                 4.0                5.0"
      ]
     },
     "execution_count": 63,
     "metadata": {},
     "output_type": "execute_result"
    }
   ],
   "source": [
    "sf[\"Experience_plus_1\"] = sf[\"Experience (Years)\"].apply(lambda x:x+1)\n",
    "sf"
   ]
  },
  {
   "cell_type": "markdown",
   "id": "c9937945-8d19-4828-98bf-8bf2fbfce902",
   "metadata": {},
   "source": [
    "# Part G: Index Manipulation"
   ]
  },
  {
   "cell_type": "raw",
   "id": "c2177d18-cc13-40d1-a4ff-1251b9c31d86",
   "metadata": {},
   "source": [
    "15. Reset the index and then set 'Employee' as the index."
   ]
  },
  {
   "cell_type": "code",
   "execution_count": 57,
   "id": "fad7629f-c359-42c8-b683-0e992dbcf374",
   "metadata": {},
   "outputs": [
    {
     "data": {
      "text/html": [
       "<div>\n",
       "<style scoped>\n",
       "    .dataframe tbody tr th:only-of-type {\n",
       "        vertical-align: middle;\n",
       "    }\n",
       "\n",
       "    .dataframe tbody tr th {\n",
       "        vertical-align: top;\n",
       "    }\n",
       "\n",
       "    .dataframe thead th {\n",
       "        text-align: right;\n",
       "    }\n",
       "</style>\n",
       "<table border=\"1\" class=\"dataframe\">\n",
       "  <thead>\n",
       "    <tr style=\"text-align: right;\">\n",
       "      <th></th>\n",
       "      <th>Region</th>\n",
       "      <th>Sales</th>\n",
       "    </tr>\n",
       "  </thead>\n",
       "  <tbody>\n",
       "    <tr>\n",
       "      <th>0</th>\n",
       "      <td>North</td>\n",
       "      <td>12000</td>\n",
       "    </tr>\n",
       "    <tr>\n",
       "      <th>1</th>\n",
       "      <td>South</td>\n",
       "      <td>15000</td>\n",
       "    </tr>\n",
       "    <tr>\n",
       "      <th>2</th>\n",
       "      <td>North</td>\n",
       "      <td>11000</td>\n",
       "    </tr>\n",
       "    <tr>\n",
       "      <th>3</th>\n",
       "      <td>East</td>\n",
       "      <td>13000</td>\n",
       "    </tr>\n",
       "    <tr>\n",
       "      <th>4</th>\n",
       "      <td>West</td>\n",
       "      <td>12500</td>\n",
       "    </tr>\n",
       "    <tr>\n",
       "      <th>5</th>\n",
       "      <td>South</td>\n",
       "      <td>14000</td>\n",
       "    </tr>\n",
       "  </tbody>\n",
       "</table>\n",
       "</div>"
      ],
      "text/plain": [
       "  Region  Sales\n",
       "0  North  12000\n",
       "1  South  15000\n",
       "2  North  11000\n",
       "3   East  13000\n",
       "4   West  12500\n",
       "5  South  14000"
      ]
     },
     "execution_count": 57,
     "metadata": {},
     "output_type": "execute_result"
    }
   ],
   "source": [
    "sf.reset_index(drop=True, inplace=True)  # Reset index\n",
    "sf"
   ]
  },
  {
   "cell_type": "code",
   "execution_count": 62,
   "id": "a26c6dbd-9a28-46ce-996b-1250cfd9b09c",
   "metadata": {},
   "outputs": [
    {
     "data": {
      "text/html": [
       "<div>\n",
       "<style scoped>\n",
       "    .dataframe tbody tr th:only-of-type {\n",
       "        vertical-align: middle;\n",
       "    }\n",
       "\n",
       "    .dataframe tbody tr th {\n",
       "        vertical-align: top;\n",
       "    }\n",
       "\n",
       "    .dataframe thead th {\n",
       "        text-align: right;\n",
       "    }\n",
       "</style>\n",
       "<table border=\"1\" class=\"dataframe\">\n",
       "  <thead>\n",
       "    <tr style=\"text-align: right;\">\n",
       "      <th></th>\n",
       "      <th>Department</th>\n",
       "      <th>Experience (Years)</th>\n",
       "    </tr>\n",
       "    <tr>\n",
       "      <th>Employe</th>\n",
       "      <th></th>\n",
       "      <th></th>\n",
       "    </tr>\n",
       "  </thead>\n",
       "  <tbody>\n",
       "    <tr>\n",
       "      <th>John</th>\n",
       "      <td>HR</td>\n",
       "      <td>3.0</td>\n",
       "    </tr>\n",
       "    <tr>\n",
       "      <th>Priya</th>\n",
       "      <td>IT</td>\n",
       "      <td>NaN</td>\n",
       "    </tr>\n",
       "    <tr>\n",
       "      <th>Ahmed</th>\n",
       "      <td>Finance</td>\n",
       "      <td>2.0</td>\n",
       "    </tr>\n",
       "    <tr>\n",
       "      <th>Sneha</th>\n",
       "      <td>Marketing</td>\n",
       "      <td>4.0</td>\n",
       "    </tr>\n",
       "  </tbody>\n",
       "</table>\n",
       "</div>"
      ],
      "text/plain": [
       "        Department  Experience (Years)\n",
       "Employe                               \n",
       "John            HR                 3.0\n",
       "Priya           IT                 NaN\n",
       "Ahmed      Finance                 2.0\n",
       "Sneha    Marketing                 4.0"
      ]
     },
     "execution_count": 62,
     "metadata": {},
     "output_type": "execute_result"
    }
   ],
   "source": [
    "sf.set_index('Employe', inplace=True)  \n",
    "sf"
   ]
  },
  {
   "cell_type": "markdown",
   "id": "d61923e0-76e2-4b7d-974e-e39fd8c1dc1a",
   "metadata": {},
   "source": [
    "# Part H: Filtering with Custom Conditions"
   ]
  },
  {
   "cell_type": "raw",
   "id": "b97485bf-e676-406a-8505-578a8e408b2c",
   "metadata": {},
   "source": [
    "16. Write a function that filters rows where experience is at least 4 years and salary is above 45000."
   ]
  },
  {
   "cell_type": "code",
   "execution_count": 64,
   "id": "21adcd09-80cb-4a35-84d7-66ca3184ccc5",
   "metadata": {},
   "outputs": [],
   "source": [
    "def filter_data(sf):\n",
    "    return sf[(sf['Experience (Years)'] >= 4) & (sf['Salary'] > 45000)]"
   ]
  },
  {
   "cell_type": "code",
   "execution_count": 70,
   "id": "7b1e2730-e824-4b78-b191-90a0cc7a3440",
   "metadata": {},
   "outputs": [
    {
     "name": "stdout",
     "output_type": "stream",
     "text": [
      "        Department  Experience (Years)  Experience_plus_1  Salary\n",
      "Employe                                                          \n",
      "Sneha    Marketing                 4.0                5.0   50000\n"
     ]
    }
   ],
   "source": [
    "filtered=filter_data(sf)\n",
    "print(filtered)"
   ]
  },
  {
   "cell_type": "code",
   "execution_count": null,
   "id": "790c41f8-12ca-4b66-bace-882b0db0cb5a",
   "metadata": {},
   "outputs": [],
   "source": []
  }
 ],
 "metadata": {
  "kernelspec": {
   "display_name": "Python 3 (ipykernel)",
   "language": "python",
   "name": "python3"
  },
  "language_info": {
   "codemirror_mode": {
    "name": "ipython",
    "version": 3
   },
   "file_extension": ".py",
   "mimetype": "text/x-python",
   "name": "python",
   "nbconvert_exporter": "python",
   "pygments_lexer": "ipython3",
   "version": "3.13.3"
  }
 },
 "nbformat": 4,
 "nbformat_minor": 5
}
