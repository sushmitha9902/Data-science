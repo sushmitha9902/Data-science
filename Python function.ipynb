{
 "cells": [
  {
   "cell_type": "markdown",
   "id": "947a7c35-c724-4ee7-a83e-08b68477daf4",
   "metadata": {},
   "source": [
    "# User define function"
   ]
  },
  {
   "cell_type": "raw",
   "id": "52dfe768-38cd-45a9-a829-12dc7bf81cca",
   "metadata": {},
   "source": [
    "# Write a function to check if a number is even or odd"
   ]
  },
  {
   "cell_type": "code",
   "execution_count": 2,
   "id": "00bd176d-e4ad-4f54-a142-192c076f509e",
   "metadata": {},
   "outputs": [],
   "source": [
    "def evenorodd(num):\n",
    "    \n",
    "  if num %2==0:\n",
    "        return \"even\"\n",
    "  else:\n",
    "        return \"odd\""
   ]
  },
  {
   "cell_type": "code",
   "execution_count": 3,
   "id": "802f99e2-358c-430c-85ca-082805a14f55",
   "metadata": {},
   "outputs": [
    {
     "data": {
      "text/plain": [
       "'odd'"
      ]
     },
     "execution_count": 3,
     "metadata": {},
     "output_type": "execute_result"
    }
   ],
   "source": [
    "evenorodd(5)"
   ]
  },
  {
   "cell_type": "code",
   "execution_count": 4,
   "id": "b8c33be8-3114-4b83-843b-42379c8c720d",
   "metadata": {},
   "outputs": [
    {
     "data": {
      "text/plain": [
       "'even'"
      ]
     },
     "execution_count": 4,
     "metadata": {},
     "output_type": "execute_result"
    }
   ],
   "source": [
    "evenorodd(6)"
   ]
  },
  {
   "cell_type": "raw",
   "id": "bd1dde19-dd68-48af-8cec-8bba60e81138",
   "metadata": {},
   "source": [
    "# Create a function that returns the factorial of a number"
   ]
  },
  {
   "cell_type": "code",
   "execution_count": 5,
   "id": "6812e2a1-b60d-45bc-861b-870d1520e3bf",
   "metadata": {},
   "outputs": [],
   "source": [
    "def factorial(n):\n",
    "    if n < 0:\n",
    "        raise ValueError(\"Factorial is not defined for negative numbers.\")\n",
    "    if n == 0:\n",
    "        return 1\n",
    "    else:\n",
    "        n>=1\n",
    "        return n*factorial(n-1)\n"
   ]
  },
  {
   "cell_type": "code",
   "execution_count": 6,
   "id": "3c02855a-4f60-42b6-a39b-3f92cd825fae",
   "metadata": {},
   "outputs": [
    {
     "name": "stdout",
     "output_type": "stream",
     "text": [
      "120\n"
     ]
    }
   ],
   "source": [
    "print(factorial(5))"
   ]
  },
  {
   "cell_type": "code",
   "execution_count": 16,
   "id": "76ac04f3-900d-4c20-aa54-48e0c7ff5ae2",
   "metadata": {},
   "outputs": [
    {
     "name": "stdout",
     "output_type": "stream",
     "text": [
      "6\n"
     ]
    }
   ],
   "source": [
    "print(factorial(3))"
   ]
  },
  {
   "cell_type": "raw",
   "id": "a30e78cc-a50e-4fa5-a984-eb15eb87fcfa",
   "metadata": {},
   "source": [
    "#Write a function to find the maximum of three numbers"
   ]
  },
  {
   "cell_type": "code",
   "execution_count": 2,
   "id": "996e2dd7-02e2-471f-b9cd-8fa59bd60bd5",
   "metadata": {},
   "outputs": [],
   "source": [
    "def maximum(num1,num2,num3):\n",
    "    if num1>=num2 and num1>=num3:\n",
    "        return num1\n",
    "    elif num2>=num1 and num2 >= num3:\n",
    "        return num2\n",
    "    else:\n",
    "        return num3"
   ]
  },
  {
   "cell_type": "code",
   "execution_count": 3,
   "id": "6c8160e9-69b2-40f9-bee2-2b44397ca665",
   "metadata": {},
   "outputs": [
    {
     "data": {
      "text/plain": [
       "78"
      ]
     },
     "execution_count": 3,
     "metadata": {},
     "output_type": "execute_result"
    }
   ],
   "source": [
    "maximum(34,45,78)"
   ]
  },
  {
   "cell_type": "markdown",
   "id": "c5e63b5f-c9ce-4c84-b236-d915736d2206",
   "metadata": {},
   "source": [
    "# Lambda Function"
   ]
  },
  {
   "cell_type": "raw",
   "id": "15a22a04-c412-44fb-ad34-a38f9702c064",
   "metadata": {},
   "source": [
    "#  use a lambda to multiply two numbers"
   ]
  },
  {
   "cell_type": "code",
   "execution_count": 6,
   "id": "39e35b47-90e5-4bb7-8112-5fda46c4a9e1",
   "metadata": {},
   "outputs": [
    {
     "name": "stdout",
     "output_type": "stream",
     "text": [
      "6\n"
     ]
    }
   ],
   "source": [
    "multiply =lambda a,b:a*b\n",
    "print(multiply(2,3))"
   ]
  },
  {
   "cell_type": "code",
   "execution_count": 7,
   "id": "5555d3d1-4235-4a80-9927-cb0a4ed4ad3c",
   "metadata": {},
   "outputs": [
    {
     "name": "stdout",
     "output_type": "stream",
     "text": [
      "2544\n"
     ]
    }
   ],
   "source": [
    "print(multiply(48,53))"
   ]
  },
  {
   "cell_type": "raw",
   "id": "e70210cc-a8f7-412b-aee4-972a33949d76",
   "metadata": {},
   "source": [
    "# use filter() to get even number from a list"
   ]
  },
  {
   "cell_type": "code",
   "execution_count": 8,
   "id": "d1728731-b792-4572-b64f-3752c16b04ec",
   "metadata": {},
   "outputs": [
    {
     "name": "stdout",
     "output_type": "stream",
     "text": [
      "[2, 4, 6]\n"
     ]
    }
   ],
   "source": [
    "a=[1,2,3,4,5,6]\n",
    "even=list(filter(lambda a:a%2==0,a))\n",
    "print(even)"
   ]
  },
  {
   "cell_type": "raw",
   "id": "9a5dbe03-2d07-4c96-9d61-87629c74c1f2",
   "metadata": {},
   "source": [
    "# use map() to covert a list of strings to uppercase"
   ]
  },
  {
   "cell_type": "code",
   "execution_count": 9,
   "id": "d81559f5-705e-4ef0-adca-c7d6e13b8863",
   "metadata": {},
   "outputs": [
    {
     "name": "stdout",
     "output_type": "stream",
     "text": [
      "['HELLO', 'WORLD']\n"
     ]
    }
   ],
   "source": [
    "str=[\"hello\",\"world\"]\n",
    "uppercase=list(map(lambda string:string.upper(),str))\n",
    "print(uppercase)"
   ]
  },
  {
   "cell_type": "code",
   "execution_count": null,
   "id": "7a167c6c-b8e6-4db7-b36a-4321f0e074e9",
   "metadata": {},
   "outputs": [],
   "source": []
  }
 ],
 "metadata": {
  "kernelspec": {
   "display_name": "Python 3 (ipykernel)",
   "language": "python",
   "name": "python3"
  },
  "language_info": {
   "codemirror_mode": {
    "name": "ipython",
    "version": 3
   },
   "file_extension": ".py",
   "mimetype": "text/x-python",
   "name": "python",
   "nbconvert_exporter": "python",
   "pygments_lexer": "ipython3",
   "version": "3.13.3"
  }
 },
 "nbformat": 4,
 "nbformat_minor": 5
}
