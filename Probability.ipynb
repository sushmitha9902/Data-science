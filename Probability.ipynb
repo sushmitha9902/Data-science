{
 "cells": [
  {
   "cell_type": "code",
   "execution_count": 1,
   "id": "fa389856-60c8-4d62-b4d2-1ebf5025675a",
   "metadata": {},
   "outputs": [],
   "source": [
    "import numpy as np"
   ]
  },
  {
   "cell_type": "raw",
   "id": "01424f95-5cd3-4b31-a057-f0987f5e6ad7",
   "metadata": {},
   "source": [
    "What is the probability of getting head ?"
   ]
  },
  {
   "cell_type": "markdown",
   "id": "ed921e0e-fa80-4ef5-b6f6-a536b91d4a6c",
   "metadata": {},
   "source": [
    "# For one coin toss"
   ]
  },
  {
   "cell_type": "code",
   "execution_count": 2,
   "id": "d54b9a73-fdf0-4a0b-a173-01de86336dab",
   "metadata": {},
   "outputs": [],
   "source": [
    "favorable_outcomes = 1  # Only one favorable outcome (Heads)\n",
    "total_outcomes = 2  # Two possible outcomes (Heads or Tails)"
   ]
  },
  {
   "cell_type": "code",
   "execution_count": 3,
   "id": "81c67721-a546-439f-81cd-943d844df117",
   "metadata": {},
   "outputs": [
    {
     "name": "stdout",
     "output_type": "stream",
     "text": [
      "Probability of getting heads: 0.5\n"
     ]
    }
   ],
   "source": [
    "# Calculate the probability\n",
    "\n",
    "probability = favorable_outcomes / total_outcomes\n",
    "print(\"Probability of getting heads:\", probability)"
   ]
  },
  {
   "cell_type": "markdown",
   "id": "3149c442-b9f6-4e33-a061-283c1d323055",
   "metadata": {},
   "source": [
    "# For 100 coin toss"
   ]
  },
  {
   "cell_type": "code",
   "execution_count": null,
   "id": "3493f971-3e49-47c1-8479-024e148053e0",
   "metadata": {},
   "outputs": [],
   "source": []
  }
 ],
 "metadata": {
  "kernelspec": {
   "display_name": "Python 3 (ipykernel)",
   "language": "python",
   "name": "python3"
  },
  "language_info": {
   "codemirror_mode": {
    "name": "ipython",
    "version": 3
   },
   "file_extension": ".py",
   "mimetype": "text/x-python",
   "name": "python",
   "nbconvert_exporter": "python",
   "pygments_lexer": "ipython3",
   "version": "3.13.3"
  }
 },
 "nbformat": 4,
 "nbformat_minor": 5
}
