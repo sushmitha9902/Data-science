{
 "cells": [
  {
   "cell_type": "code",
   "execution_count": 21,
   "id": "0885b2ec-6b60-45f9-8ba6-7fe535b39746",
   "metadata": {},
   "outputs": [],
   "source": [
    "import pandas as pd\n",
    "from scipy import stats\n",
    "import numpy as np"
   ]
  },
  {
   "cell_type": "code",
   "execution_count": 22,
   "id": "ce6d5b51-c5ba-4577-bf97-c168605bbcf0",
   "metadata": {},
   "outputs": [],
   "source": [
    "df=pd.read_csv(\"D:\\\\Sushmitha\\\\Susuhmi\\\\Student.csv\")"
   ]
  },
  {
   "cell_type": "code",
   "execution_count": 23,
   "id": "20b51db0-cdd6-4ac1-bfbe-bc35078ec9a9",
   "metadata": {},
   "outputs": [
    {
     "data": {
      "text/html": [
       "<div>\n",
       "<style scoped>\n",
       "    .dataframe tbody tr th:only-of-type {\n",
       "        vertical-align: middle;\n",
       "    }\n",
       "\n",
       "    .dataframe tbody tr th {\n",
       "        vertical-align: top;\n",
       "    }\n",
       "\n",
       "    .dataframe thead th {\n",
       "        text-align: right;\n",
       "    }\n",
       "</style>\n",
       "<table border=\"1\" class=\"dataframe\">\n",
       "  <thead>\n",
       "    <tr style=\"text-align: right;\">\n",
       "      <th></th>\n",
       "      <th>Student</th>\n",
       "      <th>Math</th>\n",
       "      <th>Science</th>\n",
       "      <th>English</th>\n",
       "      <th>History</th>\n",
       "    </tr>\n",
       "  </thead>\n",
       "  <tbody>\n",
       "    <tr>\n",
       "      <th>0</th>\n",
       "      <td>Ravi</td>\n",
       "      <td>85</td>\n",
       "      <td>90</td>\n",
       "      <td>78</td>\n",
       "      <td>90</td>\n",
       "    </tr>\n",
       "    <tr>\n",
       "      <th>1</th>\n",
       "      <td>Anita</td>\n",
       "      <td>78</td>\n",
       "      <td>82</td>\n",
       "      <td>74</td>\n",
       "      <td>88</td>\n",
       "    </tr>\n",
       "    <tr>\n",
       "      <th>2</th>\n",
       "      <td>John</td>\n",
       "      <td>92</td>\n",
       "      <td>85</td>\n",
       "      <td>80</td>\n",
       "      <td>84</td>\n",
       "    </tr>\n",
       "    <tr>\n",
       "      <th>3</th>\n",
       "      <td>Fatima</td>\n",
       "      <td>88</td>\n",
       "      <td>91</td>\n",
       "      <td>83</td>\n",
       "      <td>86</td>\n",
       "    </tr>\n",
       "    <tr>\n",
       "      <th>4</th>\n",
       "      <td>Karan</td>\n",
       "      <td>76</td>\n",
       "      <td>77</td>\n",
       "      <td>69</td>\n",
       "      <td>79</td>\n",
       "    </tr>\n",
       "    <tr>\n",
       "      <th>5</th>\n",
       "      <td>Divya</td>\n",
       "      <td>95</td>\n",
       "      <td>89</td>\n",
       "      <td>88</td>\n",
       "      <td>92</td>\n",
       "    </tr>\n",
       "  </tbody>\n",
       "</table>\n",
       "</div>"
      ],
      "text/plain": [
       "  Student  Math  Science  English  History\n",
       "0    Ravi    85       90       78       90\n",
       "1   Anita    78       82       74       88\n",
       "2    John    92       85       80       84\n",
       "3  Fatima    88       91       83       86\n",
       "4   Karan    76       77       69       79\n",
       "5   Divya    95       89       88       92"
      ]
     },
     "execution_count": 23,
     "metadata": {},
     "output_type": "execute_result"
    }
   ],
   "source": [
    "df"
   ]
  },
  {
   "cell_type": "code",
   "execution_count": 24,
   "id": "dac88a22-adf7-4f2c-bdff-428519944d1e",
   "metadata": {},
   "outputs": [
    {
     "name": "stdout",
     "output_type": "stream",
     "text": [
      "  Student  Math  Science  English  History\n",
      "0    Ravi    85       90       78       90\n",
      "1   Anita    78       82       74       88\n",
      "2    John    92       85       80       84\n",
      "3  Fatima    88       91       83       86\n",
      "4   Karan    76       77       69       79\n",
      "5   Divya    95       89       88       92\n"
     ]
    }
   ],
   "source": [
    "df = pd.DataFrame(df)\n",
    "print(df)\n"
   ]
  },
  {
   "cell_type": "raw",
   "id": "ea980643-4815-42b5-ad47-7ee5d6a8230b",
   "metadata": {},
   "source": [
    "1. Central Tendencies"
   ]
  },
  {
   "cell_type": "raw",
   "id": "6d4a4c9c-a80f-4508-b32e-d4603464cfb5",
   "metadata": {},
   "source": [
    "a. Find the mean, median, and mode for each subject."
   ]
  },
  {
   "cell_type": "code",
   "execution_count": 28,
   "id": "83ecba19-0173-4ab3-9967-506c26a96dfa",
   "metadata": {},
   "outputs": [
    {
     "data": {
      "text/plain": [
       "Math       85.666667\n",
       "Science    85.666667\n",
       "English    78.666667\n",
       "History    86.500000\n",
       "dtype: float64"
      ]
     },
     "execution_count": 28,
     "metadata": {},
     "output_type": "execute_result"
    }
   ],
   "source": [
    "mean = df[['Math','Science','English','History']].mean()\n",
    "mean"
   ]
  },
  {
   "cell_type": "code",
   "execution_count": 29,
   "id": "6ac627b4-2060-4dee-8b1c-cab6a9a0713d",
   "metadata": {},
   "outputs": [
    {
     "data": {
      "text/plain": [
       "Math       86.5\n",
       "Science    87.0\n",
       "English    79.0\n",
       "History    87.0\n",
       "dtype: float64"
      ]
     },
     "execution_count": 29,
     "metadata": {},
     "output_type": "execute_result"
    }
   ],
   "source": [
    "median = df[['Math','Science','English','History']].median()\n",
    "median"
   ]
  },
  {
   "cell_type": "code",
   "execution_count": 30,
   "id": "d74f263b-a71f-4011-9501-b7935ba8279f",
   "metadata": {},
   "outputs": [
    {
     "data": {
      "text/plain": [
       "Math       76\n",
       "Science    77\n",
       "English    69\n",
       "History    79\n",
       "Name: 0, dtype: int64"
      ]
     },
     "execution_count": 30,
     "metadata": {},
     "output_type": "execute_result"
    }
   ],
   "source": [
    "mode = df[['Math','Science','English','History']].mode().iloc[0]\n",
    "mode"
   ]
  },
  {
   "cell_type": "raw",
   "id": "7a7c9b74-5f21-4b19-aa20-2a99f22395f7",
   "metadata": {},
   "source": [
    "b. Which subject has the highest average score?"
   ]
  },
  {
   "cell_type": "code",
   "execution_count": 31,
   "id": "39700658-9685-46e9-9a1f-4b87f59b6737",
   "metadata": {},
   "outputs": [],
   "source": [
    "highest_subject=mean.idxmax()"
   ]
  },
  {
   "cell_type": "code",
   "execution_count": 32,
   "id": "4a9ef85b-9eb0-411a-b207-3e2a39cb20cb",
   "metadata": {},
   "outputs": [
    {
     "data": {
      "text/plain": [
       "'History'"
      ]
     },
     "execution_count": 32,
     "metadata": {},
     "output_type": "execute_result"
    }
   ],
   "source": [
    "highest_subject"
   ]
  },
  {
   "cell_type": "raw",
   "id": "c221e256-4a62-4252-b296-92c707b85a77",
   "metadata": {},
   "source": [
    "2. Measures of Dispersion"
   ]
  },
  {
   "cell_type": "raw",
   "id": "e5dbc70f-a3f9-4e07-b8d2-1088ef7786b8",
   "metadata": {},
   "source": [
    "a. Find the range of marks for each subject."
   ]
  },
  {
   "cell_type": "code",
   "execution_count": 33,
   "id": "f35f5213-2e6d-4a94-85f5-8335e3791b8a",
   "metadata": {},
   "outputs": [
    {
     "data": {
      "text/plain": [
       "Math    19\n",
       "dtype: int64"
      ]
     },
     "execution_count": 33,
     "metadata": {},
     "output_type": "execute_result"
    }
   ],
   "source": [
    "Range = df[['Math']].max()- df[['Math']].min()\n",
    "Range"
   ]
  },
  {
   "cell_type": "raw",
   "id": "92c5f2b5-b21e-4034-9e18-b7b6ac853f7a",
   "metadata": {},
   "source": [
    "b. Calculate the interquartile range (IQR) for each subject."
   ]
  },
  {
   "cell_type": "code",
   "execution_count": 34,
   "id": "34f32499-b5f9-44e8-8d92-06f9916319c5",
   "metadata": {},
   "outputs": [],
   "source": [
    "sorted =np.sort(df[['Math','Science','English','History']])\n",
    "q0=np.quantile(df[['Math','Science','English','History']],0)\n",
    "q1=np.quantile(df[['Math','Science','English','History']],0.25)\n",
    "q2=np.quantile(df[['Math','Science','English','History']],0.50)\n",
    "q3=np.quantile(df[['Math','Science','English','History']],0.75)\n",
    "q4=np.quantile(df[['Math','Science','English','History']],1)\n",
    "\n",
    "iqr=q3-q1"
   ]
  },
  {
   "cell_type": "code",
   "execution_count": 35,
   "id": "5cae3660-0f44-4b1a-8b00-5b129eb15431",
   "metadata": {},
   "outputs": [
    {
     "name": "stdout",
     "output_type": "stream",
     "text": [
      "Q0:  69\n",
      "Q1:  78.75\n",
      "Q2:  85.0\n",
      "Q3:  89.25\n",
      "Q4:  95\n",
      "IQR:  10.5\n"
     ]
    }
   ],
   "source": [
    "print(\"Q0: \", q0)\n",
    "print(\"Q1: \", q1)\n",
    "print(\"Q2: \", q2)\n",
    "print(\"Q3: \", q3)\n",
    "print(\"Q4: \", q4)\n",
    "print(\"IQR: \", iqr)"
   ]
  },
  {
   "cell_type": "raw",
   "id": "29e1ca60-2560-4a6a-b719-463767a59c4c",
   "metadata": {},
   "source": [
    "c. Compute the variance and standard deviation for each subject."
   ]
  },
  {
   "cell_type": "code",
   "execution_count": 36,
   "id": "bb6381af-416e-4ef5-ab99-eeb054f9893c",
   "metadata": {},
   "outputs": [
    {
     "name": "stderr",
     "output_type": "stream",
     "text": [
      "C:\\Users\\user\\AppData\\Local\\Programs\\Python\\Python313\\Lib\\site-packages\\numpy\\_core\\fromnumeric.py:4266: FutureWarning: The behavior of DataFrame.var with axis=None is deprecated, in a future version this will reduce over both axes and return a scalar. To retain the old behavior, pass axis=0 (or do not pass axis)\n",
      "  return var(axis=axis, dtype=dtype, out=out, ddof=ddof, **kwargs)\n",
      "C:\\Users\\user\\AppData\\Local\\Programs\\Python\\Python313\\Lib\\site-packages\\numpy\\_core\\fromnumeric.py:4062: FutureWarning: The behavior of DataFrame.std with axis=None is deprecated, in a future version this will reduce over both axes and return a scalar. To retain the old behavior, pass axis=0 (or do not pass axis)\n",
      "  return std(axis=axis, dtype=dtype, out=out, ddof=ddof, **kwargs)\n"
     ]
    }
   ],
   "source": [
    "variance = np.var(df[['Math','Science','English','History']])\n",
    "st_dev = np.std(df[['Math','Science','English','History']])"
   ]
  },
  {
   "cell_type": "code",
   "execution_count": 37,
   "id": "9907635e-a673-4994-8c37-b1043caf669c",
   "metadata": {},
   "outputs": [
    {
     "name": "stdout",
     "output_type": "stream",
     "text": [
      "Variance of GMAT:  Math       47.555556\n",
      "Science    24.555556\n",
      "English    37.222222\n",
      "History    17.916667\n",
      "dtype: float64\n",
      "Standard Deviation of GMAT:  Math       6.896054\n",
      "Science    4.955356\n",
      "English    6.101002\n",
      "History    4.232808\n",
      "dtype: float64\n"
     ]
    }
   ],
   "source": [
    "print(\"Variance of GMAT: \", variance)\n",
    "print(\"Standard Deviation of GMAT: \", st_dev)  "
   ]
  },
  {
   "cell_type": "raw",
   "id": "fad7827d-a94a-4ee4-b955-5d180a6e12d5",
   "metadata": {},
   "source": [
    "3. Descriptive Summary"
   ]
  },
  {
   "cell_type": "code",
   "execution_count": 42,
   "id": "cfb43624-2bae-434f-b0c7-ab6397789472",
   "metadata": {
    "scrolled": true
   },
   "outputs": [
    {
     "data": {
      "text/html": [
       "<div>\n",
       "<style scoped>\n",
       "    .dataframe tbody tr th:only-of-type {\n",
       "        vertical-align: middle;\n",
       "    }\n",
       "\n",
       "    .dataframe tbody tr th {\n",
       "        vertical-align: top;\n",
       "    }\n",
       "\n",
       "    .dataframe thead th {\n",
       "        text-align: right;\n",
       "    }\n",
       "</style>\n",
       "<table border=\"1\" class=\"dataframe\">\n",
       "  <thead>\n",
       "    <tr style=\"text-align: right;\">\n",
       "      <th></th>\n",
       "      <th>Math</th>\n",
       "      <th>Science</th>\n",
       "      <th>English</th>\n",
       "      <th>History</th>\n",
       "    </tr>\n",
       "  </thead>\n",
       "  <tbody>\n",
       "    <tr>\n",
       "      <th>count</th>\n",
       "      <td>6.000000</td>\n",
       "      <td>6.000000</td>\n",
       "      <td>6.000000</td>\n",
       "      <td>6.000000</td>\n",
       "    </tr>\n",
       "    <tr>\n",
       "      <th>mean</th>\n",
       "      <td>85.666667</td>\n",
       "      <td>85.666667</td>\n",
       "      <td>78.666667</td>\n",
       "      <td>86.500000</td>\n",
       "    </tr>\n",
       "    <tr>\n",
       "      <th>std</th>\n",
       "      <td>7.554248</td>\n",
       "      <td>5.428321</td>\n",
       "      <td>6.683313</td>\n",
       "      <td>4.636809</td>\n",
       "    </tr>\n",
       "    <tr>\n",
       "      <th>min</th>\n",
       "      <td>76.000000</td>\n",
       "      <td>77.000000</td>\n",
       "      <td>69.000000</td>\n",
       "      <td>79.000000</td>\n",
       "    </tr>\n",
       "    <tr>\n",
       "      <th>25%</th>\n",
       "      <td>79.750000</td>\n",
       "      <td>82.750000</td>\n",
       "      <td>75.000000</td>\n",
       "      <td>84.500000</td>\n",
       "    </tr>\n",
       "    <tr>\n",
       "      <th>50%</th>\n",
       "      <td>86.500000</td>\n",
       "      <td>87.000000</td>\n",
       "      <td>79.000000</td>\n",
       "      <td>87.000000</td>\n",
       "    </tr>\n",
       "    <tr>\n",
       "      <th>75%</th>\n",
       "      <td>91.000000</td>\n",
       "      <td>89.750000</td>\n",
       "      <td>82.250000</td>\n",
       "      <td>89.500000</td>\n",
       "    </tr>\n",
       "    <tr>\n",
       "      <th>max</th>\n",
       "      <td>95.000000</td>\n",
       "      <td>91.000000</td>\n",
       "      <td>88.000000</td>\n",
       "      <td>92.000000</td>\n",
       "    </tr>\n",
       "  </tbody>\n",
       "</table>\n",
       "</div>"
      ],
      "text/plain": [
       "            Math    Science    English    History\n",
       "count   6.000000   6.000000   6.000000   6.000000\n",
       "mean   85.666667  85.666667  78.666667  86.500000\n",
       "std     7.554248   5.428321   6.683313   4.636809\n",
       "min    76.000000  77.000000  69.000000  79.000000\n",
       "25%    79.750000  82.750000  75.000000  84.500000\n",
       "50%    86.500000  87.000000  79.000000  87.000000\n",
       "75%    91.000000  89.750000  82.250000  89.500000\n",
       "max    95.000000  91.000000  88.000000  92.000000"
      ]
     },
     "execution_count": 42,
     "metadata": {},
     "output_type": "execute_result"
    }
   ],
   "source": [
    "df.describe() "
   ]
  },
  {
   "cell_type": "raw",
   "id": "1d728d09-7923-49dc-a70d-a0da5dccfbc6",
   "metadata": {},
   "source": [
    "4. Total Score Analysis"
   ]
  },
  {
   "cell_type": "raw",
   "id": "f4f3c379-2445-4b62-9397-29ee01bbc8ce",
   "metadata": {},
   "source": [
    "a. Add a new column \"Total\" for the sum of all subjects."
   ]
  },
  {
   "cell_type": "code",
   "execution_count": 44,
   "id": "a28391c1-49d7-4ea2-8363-736b2237e8fe",
   "metadata": {},
   "outputs": [],
   "source": [
    "df['Total']=df[['Math','Science','English','History']].sum(axis=1)"
   ]
  },
  {
   "cell_type": "code",
   "execution_count": 45,
   "id": "fd033878-7468-4093-a351-48fc6f442bad",
   "metadata": {},
   "outputs": [
    {
     "data": {
      "text/html": [
       "<div>\n",
       "<style scoped>\n",
       "    .dataframe tbody tr th:only-of-type {\n",
       "        vertical-align: middle;\n",
       "    }\n",
       "\n",
       "    .dataframe tbody tr th {\n",
       "        vertical-align: top;\n",
       "    }\n",
       "\n",
       "    .dataframe thead th {\n",
       "        text-align: right;\n",
       "    }\n",
       "</style>\n",
       "<table border=\"1\" class=\"dataframe\">\n",
       "  <thead>\n",
       "    <tr style=\"text-align: right;\">\n",
       "      <th></th>\n",
       "      <th>Student</th>\n",
       "      <th>Math</th>\n",
       "      <th>Science</th>\n",
       "      <th>English</th>\n",
       "      <th>History</th>\n",
       "      <th>Total</th>\n",
       "    </tr>\n",
       "  </thead>\n",
       "  <tbody>\n",
       "    <tr>\n",
       "      <th>0</th>\n",
       "      <td>Ravi</td>\n",
       "      <td>85</td>\n",
       "      <td>90</td>\n",
       "      <td>78</td>\n",
       "      <td>90</td>\n",
       "      <td>343</td>\n",
       "    </tr>\n",
       "    <tr>\n",
       "      <th>1</th>\n",
       "      <td>Anita</td>\n",
       "      <td>78</td>\n",
       "      <td>82</td>\n",
       "      <td>74</td>\n",
       "      <td>88</td>\n",
       "      <td>322</td>\n",
       "    </tr>\n",
       "    <tr>\n",
       "      <th>2</th>\n",
       "      <td>John</td>\n",
       "      <td>92</td>\n",
       "      <td>85</td>\n",
       "      <td>80</td>\n",
       "      <td>84</td>\n",
       "      <td>341</td>\n",
       "    </tr>\n",
       "    <tr>\n",
       "      <th>3</th>\n",
       "      <td>Fatima</td>\n",
       "      <td>88</td>\n",
       "      <td>91</td>\n",
       "      <td>83</td>\n",
       "      <td>86</td>\n",
       "      <td>348</td>\n",
       "    </tr>\n",
       "    <tr>\n",
       "      <th>4</th>\n",
       "      <td>Karan</td>\n",
       "      <td>76</td>\n",
       "      <td>77</td>\n",
       "      <td>69</td>\n",
       "      <td>79</td>\n",
       "      <td>301</td>\n",
       "    </tr>\n",
       "    <tr>\n",
       "      <th>5</th>\n",
       "      <td>Divya</td>\n",
       "      <td>95</td>\n",
       "      <td>89</td>\n",
       "      <td>88</td>\n",
       "      <td>92</td>\n",
       "      <td>364</td>\n",
       "    </tr>\n",
       "  </tbody>\n",
       "</table>\n",
       "</div>"
      ],
      "text/plain": [
       "  Student  Math  Science  English  History  Total\n",
       "0    Ravi    85       90       78       90    343\n",
       "1   Anita    78       82       74       88    322\n",
       "2    John    92       85       80       84    341\n",
       "3  Fatima    88       91       83       86    348\n",
       "4   Karan    76       77       69       79    301\n",
       "5   Divya    95       89       88       92    364"
      ]
     },
     "execution_count": 45,
     "metadata": {},
     "output_type": "execute_result"
    }
   ],
   "source": [
    "df"
   ]
  },
  {
   "cell_type": "raw",
   "id": "d5839f82-38ab-4e73-8600-d5b9f656d648",
   "metadata": {},
   "source": [
    "b. Identify the student with the highest total score."
   ]
  },
  {
   "cell_type": "code",
   "execution_count": 51,
   "id": "5c07e922-6857-4ecb-b839-0c77fd60cc1c",
   "metadata": {},
   "outputs": [],
   "source": [
    "top_student=[df['Total'].idxmax()]"
   ]
  },
  {
   "cell_type": "code",
   "execution_count": 52,
   "id": "06c2c982-78cf-41a9-b8d0-69e1f95ec833",
   "metadata": {},
   "outputs": [
    {
     "data": {
      "text/plain": [
       "[5]"
      ]
     },
     "execution_count": 52,
     "metadata": {},
     "output_type": "execute_result"
    }
   ],
   "source": [
    "top_student"
   ]
  },
  {
   "cell_type": "raw",
   "id": "d05afb12-048a-4abd-be8a-c81a5901123f",
   "metadata": {},
   "source": [
    "c. Plot a bar chart of total scores for all students."
   ]
  },
  {
   "cell_type": "code",
   "execution_count": 54,
   "id": "e895bd3b-a801-40a3-9534-5a45b2f24971",
   "metadata": {},
   "outputs": [],
   "source": [
    "import matplotlib.pyplot as plt"
   ]
  },
  {
   "cell_type": "code",
   "execution_count": 57,
   "id": "fa23d2e0-7783-4d1a-aa4c-e72cf092ab48",
   "metadata": {},
   "outputs": [
    {
     "data": {
      "image/png": "[encoded data removed]",
      "text/plain": [
       "<Figure size 500x300 with 1 Axes>"
      ]
     },
     "metadata": {},
     "output_type": "display_data"
    }
   ],
   "source": [
    "plt.figure(figsize=(5,3))\n",
    "\n",
    "plt.bar(df['Student'], df['Total'], color='pink')\n",
    "plt.title('Scores of Student')\n",
    "plt.xlabel('Student')\n",
    "plt.ylabel('Scores')\n",
    "plt.show()"
   ]
  },
  {
   "cell_type": "code",
   "execution_count": null,
   "id": "3dcc8d06-aef4-4a09-8a53-53d6297e6097",
   "metadata": {},
   "outputs": [],
   "source": []
  }
 ],
 "metadata": {
  "kernelspec": {
   "display_name": "Python 3 (ipykernel)",
   "language": "python",
   "name": "python3"
  },
  "language_info": {
   "codemirror_mode": {
    "name": "ipython",
    "version": 3
   },
   "file_extension": ".py",
   "mimetype": "text/x-python",
   "name": "python",
   "nbconvert_exporter": "python",
   "pygments_lexer": "ipython3",
   "version": "3.13.3"
  }
 },
 "nbformat": 4,
 "nbformat_minor": 5
}
