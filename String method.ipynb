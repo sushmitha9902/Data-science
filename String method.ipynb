{
 "cells": [
  {
   "cell_type": "markdown",
   "id": "ef0c7c92-dad9-45b4-9e26-4cce330bd80a",
   "metadata": {},
   "source": [
    "# Convert a string to uppercase"
   ]
  },
  {
   "cell_type": "code",
   "execution_count": 1,
   "id": "f0f2d186-eeb4-41be-8ff8-03ad98eca1df",
   "metadata": {},
   "outputs": [
    {
     "data": {
      "text/plain": [
       "'DATA SCIENCE'"
      ]
     },
     "execution_count": 1,
     "metadata": {},
     "output_type": "execute_result"
    }
   ],
   "source": [
    "str=\"data science\"\n",
    "(str.upper())"
   ]
  },
  {
   "cell_type": "markdown",
   "id": "006e347c-d0e7-4f41-be67-df0384a94714",
   "metadata": {},
   "source": [
    "# Find the length of the string \"Hello World\""
   ]
  },
  {
   "cell_type": "code",
   "execution_count": 2,
   "id": "c8a42a77-dd5d-42e5-a253-f5085769e3ba",
   "metadata": {},
   "outputs": [
    {
     "data": {
      "text/plain": [
       "11"
      ]
     },
     "execution_count": 2,
     "metadata": {},
     "output_type": "execute_result"
    }
   ],
   "source": [
    "text=\"Hello World\"\n",
    "len(text)"
   ]
  },
  {
   "cell_type": "markdown",
   "id": "fb5a1c24-8b01-43c7-88e0-cfecf78da92e",
   "metadata": {},
   "source": [
    "# Ask the user to enter a number as a string and convert it to an integer.Add 10 and print the result"
   ]
  },
  {
   "cell_type": "code",
   "execution_count": 3,
   "id": "1be0e97f-4885-4aec-b536-cc0927a0ac06",
   "metadata": {},
   "outputs": [
    {
     "name": "stdin",
     "output_type": "stream",
     "text": [
      "Enter a number: 35\n"
     ]
    },
    {
     "name": "stdout",
     "output_type": "stream",
     "text": [
      "35\n",
      "<class 'str'>\n"
     ]
    }
   ],
   "source": [
    "num1=input(\"Enter a number:\")\n",
    "print(num1)\n",
    "print(type(num1))"
   ]
  },
  {
   "cell_type": "code",
   "execution_count": 4,
   "id": "41031dd9-5c92-47fd-8b9c-c16c95c3b91a",
   "metadata": {},
   "outputs": [
    {
     "name": "stdout",
     "output_type": "stream",
     "text": [
      "<class 'int'>\n"
     ]
    }
   ],
   "source": [
    "num2=int(num1)\n",
    "print(type(num2))"
   ]
  },
  {
   "cell_type": "code",
   "execution_count": 5,
   "id": "f165edc6-c2fe-44a2-b3be-ecfaec1b3100",
   "metadata": {},
   "outputs": [
    {
     "name": "stdout",
     "output_type": "stream",
     "text": [
      "45\n"
     ]
    }
   ],
   "source": [
    "print(num2+10)"
   ]
  },
  {
   "cell_type": "markdown",
   "id": "5046b7c7-f7b8-47a1-8c79-ec97790127fb",
   "metadata": {},
   "source": [
    "# Extract the word \"fun\" from the string \"Python is fun\" using slicing"
   ]
  },
  {
   "cell_type": "code",
   "execution_count": 6,
   "id": "492ad3c5-8b5b-496e-8ce2-b99003132d98",
   "metadata": {},
   "outputs": [
    {
     "name": "stdout",
     "output_type": "stream",
     "text": [
      "13\n"
     ]
    },
    {
     "data": {
      "text/plain": [
       "'fun'"
      ]
     },
     "execution_count": 6,
     "metadata": {},
     "output_type": "execute_result"
    }
   ],
   "source": [
    "comment=\"Python is fun\"\n",
    "print(len(comment))\n",
    "comment[10::]"
   ]
  },
  {
   "cell_type": "markdown",
   "id": "3b6865cc-c319-46ea-95a7-2b165c9f62e9",
   "metadata": {},
   "source": [
    "# Count how many words are in the string \"Machine Learning is powerfull\" using split() and len()"
   ]
  },
  {
   "cell_type": "code",
   "execution_count": 7,
   "id": "378bbdec-c747-4261-9c39-b35d13bbce5a",
   "metadata": {},
   "outputs": [
    {
     "name": "stdout",
     "output_type": "stream",
     "text": [
      "28\n"
     ]
    }
   ],
   "source": [
    "word=\"Machine Learning is powerful\"\n",
    "print(len(word))"
   ]
  },
  {
   "cell_type": "code",
   "execution_count": 8,
   "id": "ca29b9ec-81d1-45cf-890f-ec537f772d74",
   "metadata": {},
   "outputs": [
    {
     "name": "stdout",
     "output_type": "stream",
     "text": [
      "['Machine', 'Learning', 'is', 'powerful']\n"
     ]
    }
   ],
   "source": [
    "print(word.split(\" \"))"
   ]
  },
  {
   "cell_type": "code",
   "execution_count": 9,
   "id": "ffe1f891-e5a1-4bbc-bd20-1acf24c48768",
   "metadata": {},
   "outputs": [
    {
     "name": "stdout",
     "output_type": "stream",
     "text": [
      "4\n"
     ]
    }
   ],
   "source": [
    "print(len(word.split(\" \")))"
   ]
  },
  {
   "cell_type": "markdown",
   "id": "d6e8f023-510f-456d-a5dd-71d07f65ef22",
   "metadata": {},
   "source": [
    "# Remove Leading and trailing space from the string \" Welcome \""
   ]
  },
  {
   "cell_type": "code",
   "execution_count": 10,
   "id": "25f8f251-adaf-4a5a-a9f2-cbdcc6bd095d",
   "metadata": {},
   "outputs": [
    {
     "data": {
      "text/plain": [
       "'Welcome'"
      ]
     },
     "execution_count": 10,
     "metadata": {},
     "output_type": "execute_result"
    }
   ],
   "source": [
    "s=\"  Welcome  \"\n",
    "s.strip()"
   ]
  },
  {
   "cell_type": "markdown",
   "id": "8d07ea5d-c748-4844-87e5-a4ae8e96626f",
   "metadata": {},
   "source": [
    "# Check if the word \"Data\" is present in the sring \"Big Data Analytics \""
   ]
  },
  {
   "cell_type": "code",
   "execution_count": 11,
   "id": "823b7eb6-0849-4601-9d5a-9b39cf0685c3",
   "metadata": {},
   "outputs": [
    {
     "name": "stdout",
     "output_type": "stream",
     "text": [
      "True\n"
     ]
    }
   ],
   "source": [
    "text=\"Big Data Analytics\"\n",
    "print(\"Data\" in text)"
   ]
  },
  {
   "cell_type": "markdown",
   "id": "5f49b9f6-78da-46dc-a904-2cc64ec265cc",
   "metadata": {},
   "source": [
    "# Join the list [\"AI\",\"ML\",\"DL\"] into a single string with hyphens(-)"
   ]
  },
  {
   "cell_type": "code",
   "execution_count": 12,
   "id": "4f4457b8-bcc0-4dd2-b1db-7d3c123a6284",
   "metadata": {},
   "outputs": [
    {
     "name": "stdout",
     "output_type": "stream",
     "text": [
      "AI-ML-DL\n"
     ]
    }
   ],
   "source": [
    "name=[\"AI\",\"ML\",\"DL\"]\n",
    "print(\"-\".join(name))"
   ]
  },
  {
   "cell_type": "markdown",
   "id": "06e800b8-1ded-4eb9-9901-1f4bcb68b109",
   "metadata": {},
   "source": [
    "# Replace the word \"diffcult\" with \"easy\" in \"Python is difficult\""
   ]
  },
  {
   "cell_type": "code",
   "execution_count": 13,
   "id": "963a9ae0-ac9f-4d98-b04a-9d25cf01c4a0",
   "metadata": {},
   "outputs": [
    {
     "name": "stdout",
     "output_type": "stream",
     "text": [
      "Python is easy\n"
     ]
    }
   ],
   "source": [
    "n=\"Python is difficult\"\n",
    "print(n.replace(\"difficult\",\"easy\"))"
   ]
  },
  {
   "cell_type": "markdown",
   "id": "df7d1f31-0e98-4ed4-acdb-c725597a2797",
   "metadata": {},
   "source": [
    "# Find the maximum number from the list[10,45,3,99,23] using a built-in function"
   ]
  },
  {
   "cell_type": "code",
   "execution_count": 14,
   "id": "6fe630fb-98ae-4335-b00c-4dddd7d35061",
   "metadata": {},
   "outputs": [
    {
     "name": "stdout",
     "output_type": "stream",
     "text": [
      "99\n"
     ]
    }
   ],
   "source": [
    "num=[10,45,3,99,23]\n",
    "print(max(num))"
   ]
  },
  {
   "cell_type": "code",
   "execution_count": null,
   "id": "ca2e00d0-b5d5-4712-8200-c54c247a601c",
   "metadata": {},
   "outputs": [],
   "source": []
  }
 ],
 "metadata": {
  "kernelspec": {
   "display_name": "Python 3 (ipykernel)",
   "language": "python",
   "name": "python3"
  },
  "language_info": {
   "codemirror_mode": {
    "name": "ipython",
    "version": 3
   },
   "file_extension": ".py",
   "mimetype": "text/x-python",
   "name": "python",
   "nbconvert_exporter": "python",
   "pygments_lexer": "ipython3",
   "version": "3.13.3"
  }
 },
 "nbformat": 4,
 "nbformat_minor": 5
}
