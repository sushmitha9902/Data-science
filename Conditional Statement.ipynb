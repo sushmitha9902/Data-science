{
 "cells": [
  {
   "cell_type": "markdown",
   "id": "19f9ed76-bcfb-4699-8801-339e11fb5077",
   "metadata": {},
   "source": [
    "# Check If a number is positive ,negative or zero"
   ]
  },
  {
   "cell_type": "code",
   "execution_count": 1,
   "id": "a2b82538-ebb9-4022-98d2-519bd77ec50e",
   "metadata": {},
   "outputs": [
    {
     "name": "stdin",
     "output_type": "stream",
     "text": [
      "Enter a number: 3\n"
     ]
    },
    {
     "name": "stdout",
     "output_type": "stream",
     "text": [
      "Positive\n"
     ]
    }
   ],
   "source": [
    "num=int(input(\"Enter a number:\"))\n",
    "result=\"Positive\" if num > 0 else \"Negative\" if num < 0 else \"Zero\"\n",
    "print(result)"
   ]
  },
  {
   "cell_type": "code",
   "execution_count": 5,
   "id": "3c2786b4-80b0-4399-86ae-d48695a8374d",
   "metadata": {},
   "outputs": [
    {
     "name": "stdin",
     "output_type": "stream",
     "text": [
      "Enter a number: -5\n"
     ]
    },
    {
     "name": "stdout",
     "output_type": "stream",
     "text": [
      "Negative\n"
     ]
    }
   ],
   "source": [
    "num=int(input(\"Enter a number:\"))\n",
    "result=\"Positive\" if num > 0 else \"Negative\" if num < 0 else \"Zero\"\n",
    "print(result)"
   ]
  },
  {
   "cell_type": "markdown",
   "id": "e57a64ca-b38e-47f9-80d9-7dd8d2fd84e0",
   "metadata": {},
   "source": [
    "# Check if a character is a vowel or consonant"
   ]
  },
  {
   "cell_type": "code",
   "execution_count": 3,
   "id": "42053138-e7ee-44b9-b1a1-cf6c7908c7ae",
   "metadata": {},
   "outputs": [
    {
     "name": "stdin",
     "output_type": "stream",
     "text": [
      "enter a chr: a\n"
     ]
    },
    {
     "name": "stdout",
     "output_type": "stream",
     "text": [
      "is vowel\n"
     ]
    }
   ],
   "source": [
    "character=input(\"enter a chr:\")\n",
    "if character in'aeiou':\n",
    "     print(\"is vowel\")\n",
    "else:\n",
    "     print(\"is not vowel\")"
   ]
  },
  {
   "cell_type": "code",
   "execution_count": 4,
   "id": "03b6b13a-3c27-457c-8383-4c5731ed29d5",
   "metadata": {},
   "outputs": [
    {
     "name": "stdin",
     "output_type": "stream",
     "text": [
      "enter a chr: b\n"
     ]
    },
    {
     "name": "stdout",
     "output_type": "stream",
     "text": [
      "is not vowel\n"
     ]
    }
   ],
   "source": [
    "character=input(\"enter a chr:\")\n",
    "if character in'aeiou':\n",
    "     print(\"is vowel\")\n",
    "else:\n",
    "     print(\"is not vowel\")"
   ]
  },
  {
   "cell_type": "markdown",
   "id": "a905d1cf-284d-4638-a006-fa8a408a404d",
   "metadata": {},
   "source": [
    "# Assign category based on age"
   ]
  },
  {
   "cell_type": "code",
   "execution_count": 6,
   "id": "6978b3ea-437d-4795-aeef-cf990242381d",
   "metadata": {},
   "outputs": [
    {
     "name": "stdin",
     "output_type": "stream",
     "text": [
      "Enter a age: 18\n"
     ]
    },
    {
     "name": "stdout",
     "output_type": "stream",
     "text": [
      "Teenager\n"
     ]
    }
   ],
   "source": [
    "age=int(input(\"Enter a age:\"))\n",
    "if age <= 13:\n",
    "    print(\"Child\")\n",
    "elif 13 <= age <= 19:\n",
    "    print(\"Teenager\")\n",
    "elif 20 <= age <= 59:\n",
    "    print(\"Adult\")\n",
    "elif age >= 60:\n",
    "     print(\"Senior Citizen\")\n",
    "else:\n",
    "    print(\"Invalid age\")"
   ]
  },
  {
   "cell_type": "markdown",
   "id": "6158d916-03f0-4171-a38d-da7e7e4e371d",
   "metadata": {},
   "source": [
    "# Simple calculator"
   ]
  },
  {
   "cell_type": "code",
   "execution_count": 7,
   "id": "81b918e3-1290-4c0b-889c-6367f74a275c",
   "metadata": {},
   "outputs": [
    {
     "name": "stdout",
     "output_type": "stream",
     "text": [
      "134\n",
      "22\n",
      "4368\n",
      "1.3928571428571428\n"
     ]
    }
   ],
   "source": [
    "a=78\n",
    "b=56\n",
    "print(a+b)\n",
    "print(a-b)\n",
    "print(a*b)\n",
    "print(a/b)"
   ]
  },
  {
   "cell_type": "code",
   "execution_count": 8,
   "id": "f5c18079-f6f2-4eda-a35c-b94390e465fa",
   "metadata": {},
   "outputs": [
    {
     "name": "stdout",
     "output_type": "stream",
     "text": [
      "91\n",
      "-21\n",
      "1960\n",
      "0.625\n"
     ]
    }
   ],
   "source": [
    "a=35\n",
    "b=56\n",
    "print(a+b)\n",
    "print(a-b)\n",
    "print(a*b)\n",
    "print(a/b)"
   ]
  },
  {
   "cell_type": "markdown",
   "id": "149cbba3-fbaa-4d0f-a2cf-df556c36228f",
   "metadata": {},
   "source": [
    "# Check eligibility for college admission"
   ]
  },
  {
   "cell_type": "code",
   "execution_count": 11,
   "id": "39ba41c1-10e9-41ec-b2ba-1bfb01e59b19",
   "metadata": {},
   "outputs": [
    {
     "name": "stdin",
     "output_type": "stream",
     "text": [
      " 60\n",
      " 60\n",
      " 60\n"
     ]
    },
    {
     "name": "stdout",
     "output_type": "stream",
     "text": [
      "Eligible\n"
     ]
    }
   ],
   "source": [
    "m=float(input())\n",
    "p=float(input())\n",
    "c=float(input())\n",
    "\n",
    "avg = (m + p + c)/3\n",
    "\n",
    "if avg >=60:\n",
    "    print(\"Eligible\")"
   ]
  },
  {
   "cell_type": "markdown",
   "id": "b7fb2be1-a065-4628-9195-55c205a7e2d7",
   "metadata": {},
   "source": [
    "# Check if a number is within a range"
   ]
  },
  {
   "cell_type": "code",
   "execution_count": 15,
   "id": "20768ac8-cbec-4868-a584-042e597cebc3",
   "metadata": {},
   "outputs": [
    {
     "name": "stdin",
     "output_type": "stream",
     "text": [
      "enter a number: 30\n"
     ]
    },
    {
     "name": "stdout",
     "output_type": "stream",
     "text": [
      "number is with in a range\n"
     ]
    }
   ],
   "source": [
    "num = int (input(\"enter a number:\"))\n",
    "if 10<=num<=50:\n",
    "    print(\"number is with in a range\")\n",
    "else:\n",
    "    print(\"is not a with in a range\")"
   ]
  },
  {
   "cell_type": "code",
   "execution_count": 16,
   "id": "49a14fd2-56cc-4bf3-8782-fde5e4d69b78",
   "metadata": {},
   "outputs": [
    {
     "name": "stdin",
     "output_type": "stream",
     "text": [
      "enter a number: 55\n"
     ]
    },
    {
     "name": "stdout",
     "output_type": "stream",
     "text": [
      "is not a with in a range\n"
     ]
    }
   ],
   "source": [
    "num = int (input(\"enter a number:\"))\n",
    "if 10<=num<=50:\n",
    "    print(\"number is with in a range\")\n",
    "else:\n",
    "    print(\"is not a with in a range\")"
   ]
  },
  {
   "cell_type": "markdown",
   "id": "a47bc291-63ee-4c02-a0ab-2fa1db46513f",
   "metadata": {},
   "source": [
    "# Compare two strings"
   ]
  },
  {
   "cell_type": "code",
   "execution_count": 17,
   "id": "2235012c-b6a1-4bd0-81b9-cc5e2a290a88",
   "metadata": {},
   "outputs": [
    {
     "name": "stdin",
     "output_type": "stream",
     "text": [
      "Enter value: 24\n",
      "Enter value: 2\n"
     ]
    },
    {
     "name": "stdout",
     "output_type": "stream",
     "text": [
      "False\n",
      "True\n"
     ]
    }
   ],
   "source": [
    "x=input(\"Enter value:\")\n",
    "y=input(\"Enter value:\")\n",
    "z=x\n",
    "print(x is not z)\n",
    "print(x is z)"
   ]
  },
  {
   "cell_type": "code",
   "execution_count": null,
   "id": "ac81845f-ff4b-441a-813b-4bcb890bf868",
   "metadata": {},
   "outputs": [],
   "source": []
  }
 ],
 "metadata": {
  "kernelspec": {
   "display_name": "Python 3 (ipykernel)",
   "language": "python",
   "name": "python3"
  },
  "language_info": {
   "codemirror_mode": {
    "name": "ipython",
    "version": 3
   },
   "file_extension": ".py",
   "mimetype": "text/x-python",
   "name": "python",
   "nbconvert_exporter": "python",
   "pygments_lexer": "ipython3",
   "version": "3.13.3"
  }
 },
 "nbformat": 4,
 "nbformat_minor": 5
}
