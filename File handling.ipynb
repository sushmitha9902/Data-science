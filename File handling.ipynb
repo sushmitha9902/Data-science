{
 "cells": [
  {
   "cell_type": "markdown",
   "id": "7216a2a7-86d4-4c97-bf0e-e3e32ab0c9d8",
   "metadata": {},
   "source": [
    "# File Handling"
   ]
  },
  {
   "cell_type": "code",
   "execution_count": 1,
   "id": "f73eee0a-5494-4272-9d53-12c892021014",
   "metadata": {},
   "outputs": [
    {
     "name": "stdout",
     "output_type": "stream",
     "text": [
      "My Favorite Subject\n",
      "       Mathematices is my favorite subject because Math problems are like puzzles,and the satisfaction of finding the solution is immense.\n",
      "The beauty of numbers and the intricate patterns they form fascinate me,and It also encourages logical thinking and cricital analysis.\n",
      "The subject's direct relevance to our daily lives makes it both practical and engaging. \n"
     ]
    }
   ],
   "source": [
    "with open(r\"D:\\Sushmitha\\fav_subject.txt\",\"r\") as file:\n",
    "    data = file.read()\n",
    "    print(data)"
   ]
  },
  {
   "cell_type": "code",
   "execution_count": null,
   "id": "a01622d0-cab3-4bad-b1b2-8167362cc5e3",
   "metadata": {},
   "outputs": [],
   "source": []
  }
 ],
 "metadata": {
  "kernelspec": {
   "display_name": "Python 3 (ipykernel)",
   "language": "python",
   "name": "python3"
  },
  "language_info": {
   "codemirror_mode": {
    "name": "ipython",
    "version": 3
   },
   "file_extension": ".py",
   "mimetype": "text/x-python",
   "name": "python",
   "nbconvert_exporter": "python",
   "pygments_lexer": "ipython3",
   "version": "3.13.3"
  }
 },
 "nbformat": 4,
 "nbformat_minor": 5
}
